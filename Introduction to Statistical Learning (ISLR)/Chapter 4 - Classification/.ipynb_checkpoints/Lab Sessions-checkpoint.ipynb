{
 "cells": [
  {
   "cell_type": "markdown",
   "metadata": {},
   "source": [
    "# ISLR- Python: Chapter 4 -- Lab: Classification"
   ]
  },
  {
   "cell_type": "markdown",
   "metadata": {},
   "source": [
    "- [Load Datasets](#Load-Datasets)\n",
    "- [4.6.1 Compute Data Correlations](#4.6.1-Compute-Data-Correlations)\n",
    "- [4.6.2 Logistic Regression of Market Direction](#4.6.2-Logistic-Regression-of-Market-Direction)\n",
    "- [4.6.3 Linear Discriminant Aanlysis of Market Direction](#4.6.3-Linear-Discriminant-Analysis-of-Market-Direction)\n",
    "- [4.6.4 Quadratic Discriminant Analysis of Market Direction](#4.6.4-Quadratic-Discriminant-Analysis-of-Market-Direction)\n",
    "- [4.6.5 K-Nearest Neighbors](#4.6.5-K-Nearest-Neighbors)\n",
    "- [4.6.6 K-Nearest Neighbors Applied to Caravan Insurance Data](#4.6.6-K-Nearest-Neighbors-Applied-to-Caravan-Insurance-Data)"
   ]
  },
  {
   "cell_type": "code",
   "execution_count": 12,
   "metadata": {},
   "outputs": [],
   "source": [
    "## perform imports and set-up\n",
    "import numpy as np\n",
    "import pandas as pd\n",
    "import statsmodels.api as sm\n",
    "import statsmodels.formula.api as smf\n",
    "\n",
    "from matplotlib import pyplot as plt\n",
    "from sklearn.discriminant_analysis import LinearDiscriminantAnalysis as LDA\n",
    "from sklearn.discriminant_analysis import QuadraticDiscriminantAnalysis as QDA\n",
    "from sklearn.neighbors import KNeighborsClassifier\n",
    "from sklearn.preprocessing import scale\n",
    "\n",
    "%matplotlib inline\n",
    "plt.style.use('ggplot') # emulate pretty r-style plots\n",
    "\n",
    "# print numpy arrays with precision 4\n",
    "np.set_printoptions(precision=4)"
   ]
  },
  {
   "cell_type": "markdown",
   "metadata": {},
   "source": [
    "## Load Datasets"
   ]
  },
  {
   "cell_type": "code",
   "execution_count": 5,
   "metadata": {},
   "outputs": [
    {
     "data": {
      "text/html": [
       "<div>\n",
       "<style scoped>\n",
       "    .dataframe tbody tr th:only-of-type {\n",
       "        vertical-align: middle;\n",
       "    }\n",
       "\n",
       "    .dataframe tbody tr th {\n",
       "        vertical-align: top;\n",
       "    }\n",
       "\n",
       "    .dataframe thead th {\n",
       "        text-align: right;\n",
       "    }\n",
       "</style>\n",
       "<table border=\"1\" class=\"dataframe\">\n",
       "  <thead>\n",
       "    <tr style=\"text-align: right;\">\n",
       "      <th></th>\n",
       "      <th>Year</th>\n",
       "      <th>Lag1</th>\n",
       "      <th>Lag2</th>\n",
       "      <th>Lag3</th>\n",
       "      <th>Lag4</th>\n",
       "      <th>Lag5</th>\n",
       "      <th>Volume</th>\n",
       "      <th>Today</th>\n",
       "      <th>Direction</th>\n",
       "    </tr>\n",
       "  </thead>\n",
       "  <tbody>\n",
       "    <tr>\n",
       "      <th>1</th>\n",
       "      <td>2001</td>\n",
       "      <td>0.381</td>\n",
       "      <td>-0.192</td>\n",
       "      <td>-2.624</td>\n",
       "      <td>-1.055</td>\n",
       "      <td>5.010</td>\n",
       "      <td>1.1913</td>\n",
       "      <td>0.959</td>\n",
       "      <td>Up</td>\n",
       "    </tr>\n",
       "    <tr>\n",
       "      <th>2</th>\n",
       "      <td>2001</td>\n",
       "      <td>0.959</td>\n",
       "      <td>0.381</td>\n",
       "      <td>-0.192</td>\n",
       "      <td>-2.624</td>\n",
       "      <td>-1.055</td>\n",
       "      <td>1.2965</td>\n",
       "      <td>1.032</td>\n",
       "      <td>Up</td>\n",
       "    </tr>\n",
       "  </tbody>\n",
       "</table>\n",
       "</div>"
      ],
      "text/plain": [
       "   Year   Lag1   Lag2   Lag3   Lag4   Lag5  Volume  Today Direction\n",
       "1  2001  0.381 -0.192 -2.624 -1.055  5.010  1.1913  0.959        Up\n",
       "2  2001  0.959  0.381 -0.192 -2.624 -1.055  1.2965  1.032        Up"
      ]
     },
     "execution_count": 5,
     "metadata": {},
     "output_type": "execute_result"
    }
   ],
   "source": [
    "# Load data and display first rows\n",
    "market_df = pd.read_csv('../data/Smarket.csv',index_col=0)\n",
    "market_df.head(2)"
   ]
  },
  {
   "cell_type": "code",
   "execution_count": 6,
   "metadata": {},
   "outputs": [
    {
     "data": {
      "text/html": [
       "<div>\n",
       "<style scoped>\n",
       "    .dataframe tbody tr th:only-of-type {\n",
       "        vertical-align: middle;\n",
       "    }\n",
       "\n",
       "    .dataframe tbody tr th {\n",
       "        vertical-align: top;\n",
       "    }\n",
       "\n",
       "    .dataframe thead th {\n",
       "        text-align: right;\n",
       "    }\n",
       "</style>\n",
       "<table border=\"1\" class=\"dataframe\">\n",
       "  <thead>\n",
       "    <tr style=\"text-align: right;\">\n",
       "      <th></th>\n",
       "      <th>MOSTYPE</th>\n",
       "      <th>MAANTHUI</th>\n",
       "      <th>MGEMOMV</th>\n",
       "      <th>MGEMLEEF</th>\n",
       "      <th>MOSHOOFD</th>\n",
       "      <th>MGODRK</th>\n",
       "      <th>MGODPR</th>\n",
       "      <th>MGODOV</th>\n",
       "      <th>MGODGE</th>\n",
       "      <th>MRELGE</th>\n",
       "      <th>...</th>\n",
       "      <th>APERSONG</th>\n",
       "      <th>AGEZONG</th>\n",
       "      <th>AWAOREG</th>\n",
       "      <th>ABRAND</th>\n",
       "      <th>AZEILPL</th>\n",
       "      <th>APLEZIER</th>\n",
       "      <th>AFIETS</th>\n",
       "      <th>AINBOED</th>\n",
       "      <th>ABYSTAND</th>\n",
       "      <th>Purchase</th>\n",
       "    </tr>\n",
       "  </thead>\n",
       "  <tbody>\n",
       "    <tr>\n",
       "      <th>1</th>\n",
       "      <td>33</td>\n",
       "      <td>1</td>\n",
       "      <td>3</td>\n",
       "      <td>2</td>\n",
       "      <td>8</td>\n",
       "      <td>0</td>\n",
       "      <td>5</td>\n",
       "      <td>1</td>\n",
       "      <td>3</td>\n",
       "      <td>7</td>\n",
       "      <td>...</td>\n",
       "      <td>0</td>\n",
       "      <td>0</td>\n",
       "      <td>0</td>\n",
       "      <td>1</td>\n",
       "      <td>0</td>\n",
       "      <td>0</td>\n",
       "      <td>0</td>\n",
       "      <td>0</td>\n",
       "      <td>0</td>\n",
       "      <td>No</td>\n",
       "    </tr>\n",
       "    <tr>\n",
       "      <th>2</th>\n",
       "      <td>37</td>\n",
       "      <td>1</td>\n",
       "      <td>2</td>\n",
       "      <td>2</td>\n",
       "      <td>8</td>\n",
       "      <td>1</td>\n",
       "      <td>4</td>\n",
       "      <td>1</td>\n",
       "      <td>4</td>\n",
       "      <td>6</td>\n",
       "      <td>...</td>\n",
       "      <td>0</td>\n",
       "      <td>0</td>\n",
       "      <td>0</td>\n",
       "      <td>1</td>\n",
       "      <td>0</td>\n",
       "      <td>0</td>\n",
       "      <td>0</td>\n",
       "      <td>0</td>\n",
       "      <td>0</td>\n",
       "      <td>No</td>\n",
       "    </tr>\n",
       "  </tbody>\n",
       "</table>\n",
       "<p>2 rows × 86 columns</p>\n",
       "</div>"
      ],
      "text/plain": [
       "   MOSTYPE  MAANTHUI  MGEMOMV  MGEMLEEF  MOSHOOFD  MGODRK  MGODPR  MGODOV  \\\n",
       "1       33         1        3         2         8       0       5       1   \n",
       "2       37         1        2         2         8       1       4       1   \n",
       "\n",
       "   MGODGE  MRELGE    ...     APERSONG  AGEZONG  AWAOREG  ABRAND  AZEILPL  \\\n",
       "1       3       7    ...            0        0        0       1        0   \n",
       "2       4       6    ...            0        0        0       1        0   \n",
       "\n",
       "   APLEZIER  AFIETS  AINBOED  ABYSTAND  Purchase  \n",
       "1         0       0        0         0        No  \n",
       "2         0       0        0         0        No  \n",
       "\n",
       "[2 rows x 86 columns]"
      ]
     },
     "execution_count": 6,
     "metadata": {},
     "output_type": "execute_result"
    }
   ],
   "source": [
    "# Load the caravan insurance data for section 4.6.6\n",
    "caravan_df = pd.read_csv('../data/Caravan.csv', index_col=0)\n",
    "caravan_df.head(2)"
   ]
  },
  {
   "cell_type": "code",
   "execution_count": 4,
   "metadata": {},
   "outputs": [
    {
     "name": "stdout",
     "output_type": "stream",
     "text": [
      "(1250, 9)\n"
     ]
    },
    {
     "data": {
      "text/html": [
       "<div>\n",
       "<style scoped>\n",
       "    .dataframe tbody tr th:only-of-type {\n",
       "        vertical-align: middle;\n",
       "    }\n",
       "\n",
       "    .dataframe tbody tr th {\n",
       "        vertical-align: top;\n",
       "    }\n",
       "\n",
       "    .dataframe thead th {\n",
       "        text-align: right;\n",
       "    }\n",
       "</style>\n",
       "<table border=\"1\" class=\"dataframe\">\n",
       "  <thead>\n",
       "    <tr style=\"text-align: right;\">\n",
       "      <th></th>\n",
       "      <th>Year</th>\n",
       "      <th>Lag1</th>\n",
       "      <th>Lag2</th>\n",
       "      <th>Lag3</th>\n",
       "      <th>Lag4</th>\n",
       "      <th>Lag5</th>\n",
       "      <th>Volume</th>\n",
       "      <th>Today</th>\n",
       "    </tr>\n",
       "  </thead>\n",
       "  <tbody>\n",
       "    <tr>\n",
       "      <th>count</th>\n",
       "      <td>1250.000000</td>\n",
       "      <td>1250.000000</td>\n",
       "      <td>1250.000000</td>\n",
       "      <td>1250.000000</td>\n",
       "      <td>1250.000000</td>\n",
       "      <td>1250.00000</td>\n",
       "      <td>1250.000000</td>\n",
       "      <td>1250.000000</td>\n",
       "    </tr>\n",
       "    <tr>\n",
       "      <th>mean</th>\n",
       "      <td>2003.016000</td>\n",
       "      <td>0.003834</td>\n",
       "      <td>0.003919</td>\n",
       "      <td>0.001716</td>\n",
       "      <td>0.001636</td>\n",
       "      <td>0.00561</td>\n",
       "      <td>1.478305</td>\n",
       "      <td>0.003138</td>\n",
       "    </tr>\n",
       "    <tr>\n",
       "      <th>std</th>\n",
       "      <td>1.409018</td>\n",
       "      <td>1.136299</td>\n",
       "      <td>1.136280</td>\n",
       "      <td>1.138703</td>\n",
       "      <td>1.138774</td>\n",
       "      <td>1.14755</td>\n",
       "      <td>0.360357</td>\n",
       "      <td>1.136334</td>\n",
       "    </tr>\n",
       "    <tr>\n",
       "      <th>min</th>\n",
       "      <td>2001.000000</td>\n",
       "      <td>-4.922000</td>\n",
       "      <td>-4.922000</td>\n",
       "      <td>-4.922000</td>\n",
       "      <td>-4.922000</td>\n",
       "      <td>-4.92200</td>\n",
       "      <td>0.356070</td>\n",
       "      <td>-4.922000</td>\n",
       "    </tr>\n",
       "    <tr>\n",
       "      <th>25%</th>\n",
       "      <td>2002.000000</td>\n",
       "      <td>-0.639500</td>\n",
       "      <td>-0.639500</td>\n",
       "      <td>-0.640000</td>\n",
       "      <td>-0.640000</td>\n",
       "      <td>-0.64000</td>\n",
       "      <td>1.257400</td>\n",
       "      <td>-0.639500</td>\n",
       "    </tr>\n",
       "    <tr>\n",
       "      <th>50%</th>\n",
       "      <td>2003.000000</td>\n",
       "      <td>0.039000</td>\n",
       "      <td>0.039000</td>\n",
       "      <td>0.038500</td>\n",
       "      <td>0.038500</td>\n",
       "      <td>0.03850</td>\n",
       "      <td>1.422950</td>\n",
       "      <td>0.038500</td>\n",
       "    </tr>\n",
       "    <tr>\n",
       "      <th>75%</th>\n",
       "      <td>2004.000000</td>\n",
       "      <td>0.596750</td>\n",
       "      <td>0.596750</td>\n",
       "      <td>0.596750</td>\n",
       "      <td>0.596750</td>\n",
       "      <td>0.59700</td>\n",
       "      <td>1.641675</td>\n",
       "      <td>0.596750</td>\n",
       "    </tr>\n",
       "    <tr>\n",
       "      <th>max</th>\n",
       "      <td>2005.000000</td>\n",
       "      <td>5.733000</td>\n",
       "      <td>5.733000</td>\n",
       "      <td>5.733000</td>\n",
       "      <td>5.733000</td>\n",
       "      <td>5.73300</td>\n",
       "      <td>3.152470</td>\n",
       "      <td>5.733000</td>\n",
       "    </tr>\n",
       "  </tbody>\n",
       "</table>\n",
       "</div>"
      ],
      "text/plain": [
       "              Year         Lag1         Lag2         Lag3         Lag4  \\\n",
       "count  1250.000000  1250.000000  1250.000000  1250.000000  1250.000000   \n",
       "mean   2003.016000     0.003834     0.003919     0.001716     0.001636   \n",
       "std       1.409018     1.136299     1.136280     1.138703     1.138774   \n",
       "min    2001.000000    -4.922000    -4.922000    -4.922000    -4.922000   \n",
       "25%    2002.000000    -0.639500    -0.639500    -0.640000    -0.640000   \n",
       "50%    2003.000000     0.039000     0.039000     0.038500     0.038500   \n",
       "75%    2004.000000     0.596750     0.596750     0.596750     0.596750   \n",
       "max    2005.000000     5.733000     5.733000     5.733000     5.733000   \n",
       "\n",
       "             Lag5       Volume        Today  \n",
       "count  1250.00000  1250.000000  1250.000000  \n",
       "mean      0.00561     1.478305     0.003138  \n",
       "std       1.14755     0.360357     1.136334  \n",
       "min      -4.92200     0.356070    -4.922000  \n",
       "25%      -0.64000     1.257400    -0.639500  \n",
       "50%       0.03850     1.422950     0.038500  \n",
       "75%       0.59700     1.641675     0.596750  \n",
       "max       5.73300     3.152470     5.733000  "
      ]
     },
     "execution_count": 4,
     "metadata": {},
     "output_type": "execute_result"
    }
   ],
   "source": [
    "# Show summary statistics of the data\n",
    "print(market_df.shape)\n",
    "market_df.describe()"
   ]
  },
  {
   "cell_type": "markdown",
   "metadata": {},
   "source": [
    "## 4.6.1 Compute Data Correlations"
   ]
  },
  {
   "cell_type": "code",
   "execution_count": 7,
   "metadata": {},
   "outputs": [
    {
     "data": {
      "text/html": [
       "<div>\n",
       "<style scoped>\n",
       "    .dataframe tbody tr th:only-of-type {\n",
       "        vertical-align: middle;\n",
       "    }\n",
       "\n",
       "    .dataframe tbody tr th {\n",
       "        vertical-align: top;\n",
       "    }\n",
       "\n",
       "    .dataframe thead th {\n",
       "        text-align: right;\n",
       "    }\n",
       "</style>\n",
       "<table border=\"1\" class=\"dataframe\">\n",
       "  <thead>\n",
       "    <tr style=\"text-align: right;\">\n",
       "      <th></th>\n",
       "      <th>Year</th>\n",
       "      <th>Lag1</th>\n",
       "      <th>Lag2</th>\n",
       "      <th>Lag3</th>\n",
       "      <th>Lag4</th>\n",
       "      <th>Lag5</th>\n",
       "      <th>Volume</th>\n",
       "      <th>Today</th>\n",
       "    </tr>\n",
       "  </thead>\n",
       "  <tbody>\n",
       "    <tr>\n",
       "      <th>Year</th>\n",
       "      <td>1.000000</td>\n",
       "      <td>0.029700</td>\n",
       "      <td>0.030596</td>\n",
       "      <td>0.033195</td>\n",
       "      <td>0.035689</td>\n",
       "      <td>0.029788</td>\n",
       "      <td>0.539006</td>\n",
       "      <td>0.030095</td>\n",
       "    </tr>\n",
       "    <tr>\n",
       "      <th>Lag1</th>\n",
       "      <td>0.029700</td>\n",
       "      <td>1.000000</td>\n",
       "      <td>-0.026294</td>\n",
       "      <td>-0.010803</td>\n",
       "      <td>-0.002986</td>\n",
       "      <td>-0.005675</td>\n",
       "      <td>0.040910</td>\n",
       "      <td>-0.026155</td>\n",
       "    </tr>\n",
       "    <tr>\n",
       "      <th>Lag2</th>\n",
       "      <td>0.030596</td>\n",
       "      <td>-0.026294</td>\n",
       "      <td>1.000000</td>\n",
       "      <td>-0.025897</td>\n",
       "      <td>-0.010854</td>\n",
       "      <td>-0.003558</td>\n",
       "      <td>-0.043383</td>\n",
       "      <td>-0.010250</td>\n",
       "    </tr>\n",
       "    <tr>\n",
       "      <th>Lag3</th>\n",
       "      <td>0.033195</td>\n",
       "      <td>-0.010803</td>\n",
       "      <td>-0.025897</td>\n",
       "      <td>1.000000</td>\n",
       "      <td>-0.024051</td>\n",
       "      <td>-0.018808</td>\n",
       "      <td>-0.041824</td>\n",
       "      <td>-0.002448</td>\n",
       "    </tr>\n",
       "    <tr>\n",
       "      <th>Lag4</th>\n",
       "      <td>0.035689</td>\n",
       "      <td>-0.002986</td>\n",
       "      <td>-0.010854</td>\n",
       "      <td>-0.024051</td>\n",
       "      <td>1.000000</td>\n",
       "      <td>-0.027084</td>\n",
       "      <td>-0.048414</td>\n",
       "      <td>-0.006900</td>\n",
       "    </tr>\n",
       "    <tr>\n",
       "      <th>Lag5</th>\n",
       "      <td>0.029788</td>\n",
       "      <td>-0.005675</td>\n",
       "      <td>-0.003558</td>\n",
       "      <td>-0.018808</td>\n",
       "      <td>-0.027084</td>\n",
       "      <td>1.000000</td>\n",
       "      <td>-0.022002</td>\n",
       "      <td>-0.034860</td>\n",
       "    </tr>\n",
       "    <tr>\n",
       "      <th>Volume</th>\n",
       "      <td>0.539006</td>\n",
       "      <td>0.040910</td>\n",
       "      <td>-0.043383</td>\n",
       "      <td>-0.041824</td>\n",
       "      <td>-0.048414</td>\n",
       "      <td>-0.022002</td>\n",
       "      <td>1.000000</td>\n",
       "      <td>0.014592</td>\n",
       "    </tr>\n",
       "    <tr>\n",
       "      <th>Today</th>\n",
       "      <td>0.030095</td>\n",
       "      <td>-0.026155</td>\n",
       "      <td>-0.010250</td>\n",
       "      <td>-0.002448</td>\n",
       "      <td>-0.006900</td>\n",
       "      <td>-0.034860</td>\n",
       "      <td>0.014592</td>\n",
       "      <td>1.000000</td>\n",
       "    </tr>\n",
       "  </tbody>\n",
       "</table>\n",
       "</div>"
      ],
      "text/plain": [
       "            Year      Lag1      Lag2      Lag3      Lag4      Lag5    Volume  \\\n",
       "Year    1.000000  0.029700  0.030596  0.033195  0.035689  0.029788  0.539006   \n",
       "Lag1    0.029700  1.000000 -0.026294 -0.010803 -0.002986 -0.005675  0.040910   \n",
       "Lag2    0.030596 -0.026294  1.000000 -0.025897 -0.010854 -0.003558 -0.043383   \n",
       "Lag3    0.033195 -0.010803 -0.025897  1.000000 -0.024051 -0.018808 -0.041824   \n",
       "Lag4    0.035689 -0.002986 -0.010854 -0.024051  1.000000 -0.027084 -0.048414   \n",
       "Lag5    0.029788 -0.005675 -0.003558 -0.018808 -0.027084  1.000000 -0.022002   \n",
       "Volume  0.539006  0.040910 -0.043383 -0.041824 -0.048414 -0.022002  1.000000   \n",
       "Today   0.030095 -0.026155 -0.010250 -0.002448 -0.006900 -0.034860  0.014592   \n",
       "\n",
       "           Today  \n",
       "Year    0.030095  \n",
       "Lag1   -0.026155  \n",
       "Lag2   -0.010250  \n",
       "Lag3   -0.002448  \n",
       "Lag4   -0.006900  \n",
       "Lag5   -0.034860  \n",
       "Volume  0.014592  \n",
       "Today   1.000000  "
      ]
     },
     "execution_count": 7,
     "metadata": {},
     "output_type": "execute_result"
    }
   ],
   "source": [
    "corr_matrix = market_df.corr()\n",
    "corr_matrix"
   ]
  },
  {
   "cell_type": "markdown",
   "metadata": {},
   "source": [
    "There is no correlation between todays percentage return and the previous 5 days (lag1..lag5) days precentage returns. The only correlation is between years and volume. The plot below shows that volume increases over time."
   ]
  },
  {
   "cell_type": "code",
   "execution_count": 19,
   "metadata": {},
   "outputs": [
    {
     "data": {
      "image/png": "[encoded data removed]",
      "text/plain": [
       "<Figure size 576x432 with 1 Axes>"
      ]
     },
     "metadata": {},
     "output_type": "display_data"
    }
   ],
   "source": [
    "fig, ax = plt.subplots(figsize = (8,6))\n",
    "ax.scatter(market_df.index.values, market_df[\"Volume\"].values)\n",
    "ax.set_xlabel('Days');\n",
    "ax.set_ylabel('Volume in Billions');"
   ]
  },
  {
   "cell_type": "markdown",
   "metadata": {},
   "source": [
    "## 4.6.2 Logistic Regression of Market Direction"
   ]
  },
  {
   "cell_type": "code",
   "execution_count": 25,
   "metadata": {},
   "outputs": [
    {
     "name": "stdout",
     "output_type": "stream",
     "text": [
      "Optimization terminated successfully.\n",
      "         Current function value: 0.691034\n",
      "         Iterations 4\n"
     ]
    },
    {
     "data": {
      "text/html": [
       "<table class=\"simpletable\">\n",
       "<caption>Logit Regression Results</caption>\n",
       "<tr>\n",
       "  <th>Dep. Variable:</th>    <td>Direction2</td>    <th>  No. Observations:  </th>  <td>  1250</td> \n",
       "</tr>\n",
       "<tr>\n",
       "  <th>Model:</th>               <td>Logit</td>      <th>  Df Residuals:      </th>  <td>  1243</td> \n",
       "</tr>\n",
       "<tr>\n",
       "  <th>Method:</th>               <td>MLE</td>       <th>  Df Model:          </th>  <td>     6</td> \n",
       "</tr>\n",
       "<tr>\n",
       "  <th>Date:</th>          <td>Sat, 08 Dec 2018</td> <th>  Pseudo R-squ.:     </th> <td>0.002074</td>\n",
       "</tr>\n",
       "<tr>\n",
       "  <th>Time:</th>              <td>19:38:24</td>     <th>  Log-Likelihood:    </th> <td> -863.79</td>\n",
       "</tr>\n",
       "<tr>\n",
       "  <th>converged:</th>           <td>True</td>       <th>  LL-Null:           </th> <td> -865.59</td>\n",
       "</tr>\n",
       "<tr>\n",
       "  <th> </th>                      <td> </td>        <th>  LLR p-value:       </th>  <td>0.7319</td> \n",
       "</tr>\n",
       "</table>\n",
       "<table class=\"simpletable\">\n",
       "<tr>\n",
       "      <td></td>         <th>coef</th>     <th>std err</th>      <th>z</th>      <th>P>|z|</th>  <th>[0.025</th>    <th>0.975]</th>  \n",
       "</tr>\n",
       "<tr>\n",
       "  <th>Intercept</th> <td>   -0.1260</td> <td>    0.241</td> <td>   -0.523</td> <td> 0.601</td> <td>   -0.598</td> <td>    0.346</td>\n",
       "</tr>\n",
       "<tr>\n",
       "  <th>Lag1</th>      <td>   -0.0731</td> <td>    0.050</td> <td>   -1.457</td> <td> 0.145</td> <td>   -0.171</td> <td>    0.025</td>\n",
       "</tr>\n",
       "<tr>\n",
       "  <th>Lag2</th>      <td>   -0.0423</td> <td>    0.050</td> <td>   -0.845</td> <td> 0.398</td> <td>   -0.140</td> <td>    0.056</td>\n",
       "</tr>\n",
       "<tr>\n",
       "  <th>Lag3</th>      <td>    0.0111</td> <td>    0.050</td> <td>    0.222</td> <td> 0.824</td> <td>   -0.087</td> <td>    0.109</td>\n",
       "</tr>\n",
       "<tr>\n",
       "  <th>Lag4</th>      <td>    0.0094</td> <td>    0.050</td> <td>    0.187</td> <td> 0.851</td> <td>   -0.089</td> <td>    0.107</td>\n",
       "</tr>\n",
       "<tr>\n",
       "  <th>Lag5</th>      <td>    0.0103</td> <td>    0.050</td> <td>    0.208</td> <td> 0.835</td> <td>   -0.087</td> <td>    0.107</td>\n",
       "</tr>\n",
       "<tr>\n",
       "  <th>Volume</th>    <td>    0.1354</td> <td>    0.158</td> <td>    0.855</td> <td> 0.392</td> <td>   -0.175</td> <td>    0.446</td>\n",
       "</tr>\n",
       "</table>"
      ],
      "text/plain": [
       "<class 'statsmodels.iolib.summary.Summary'>\n",
       "\"\"\"\n",
       "                           Logit Regression Results                           \n",
       "==============================================================================\n",
       "Dep. Variable:             Direction2   No. Observations:                 1250\n",
       "Model:                          Logit   Df Residuals:                     1243\n",
       "Method:                           MLE   Df Model:                            6\n",
       "Date:                Sat, 08 Dec 2018   Pseudo R-squ.:                0.002074\n",
       "Time:                        19:38:24   Log-Likelihood:                -863.79\n",
       "converged:                       True   LL-Null:                       -865.59\n",
       "                                        LLR p-value:                    0.7319\n",
       "==============================================================================\n",
       "                 coef    std err          z      P>|z|      [0.025      0.975]\n",
       "------------------------------------------------------------------------------\n",
       "Intercept     -0.1260      0.241     -0.523      0.601      -0.598       0.346\n",
       "Lag1          -0.0731      0.050     -1.457      0.145      -0.171       0.025\n",
       "Lag2          -0.0423      0.050     -0.845      0.398      -0.140       0.056\n",
       "Lag3           0.0111      0.050      0.222      0.824      -0.087       0.109\n",
       "Lag4           0.0094      0.050      0.187      0.851      -0.089       0.107\n",
       "Lag5           0.0103      0.050      0.208      0.835      -0.087       0.107\n",
       "Volume         0.1354      0.158      0.855      0.392      -0.175       0.446\n",
       "==============================================================================\n",
       "\"\"\""
      ]
     },
     "execution_count": 25,
     "metadata": {},
     "output_type": "execute_result"
    }
   ],
   "source": [
    "# Encode the response as 0,1 for down/up\n",
    "market_df[\"Direction2\"] = pd.Series([1 if el=='Up' else 0 for el in market_df.Direction.values],index=market_df.index)\n",
    "\n",
    "formula = \"Direction2 ~ Lag1 + Lag2 + Lag3 + Lag4 + Lag5 + Volume\"\n",
    "model = smf.logit(formula, market_df)\n",
    "\n",
    "results = model.fit()\n",
    "results.summary()"
   ]
  },
  {
   "cell_type": "code",
   "execution_count": 28,
   "metadata": {},
   "outputs": [
    {
     "name": "stdout",
     "output_type": "stream",
     "text": [
      "1     0.507084\n",
      "2     0.481468\n",
      "3     0.481139\n",
      "4     0.515222\n",
      "5     0.510781\n",
      "6     0.506956\n",
      "7     0.492651\n",
      "8     0.509229\n",
      "9     0.517614\n",
      "10    0.488838\n",
      "dtype: float64\n"
     ]
    },
    {
     "data": {
      "text/plain": [
       "['Up', 'Down', 'Down', 'Up', 'Up', 'Up', 'Down', 'Up', 'Up', 'Down']"
      ]
     },
     "execution_count": 28,
     "metadata": {},
     "output_type": "execute_result"
    }
   ],
   "source": [
    "# get the first 10 predictions for the training data set\n",
    "# Get the lag and volume column names\n",
    "predictors = market_df.columns[1:7]\n",
    "\n",
    "# Create the design matrix\n",
    "X = sm.add_constant(market_df[predictors])\n",
    "\n",
    "training_pred = results.predict(X)[:10]\n",
    "print(training_pred)\n",
    "\n",
    "# convert the probabilities to 'Up' or 'Down' qualitative variables\n",
    "direction_predictions = ['Up' if el > 0.5 else 'Down' for el in training_pred]\n",
    "direction_predictions"
   ]
  },
  {
   "cell_type": "code",
   "execution_count": 32,
   "metadata": {},
   "outputs": [
    {
     "name": "stdout",
     "output_type": "stream",
     "text": [
      "       Down     Up\n",
      "Down  145.0  457.0\n",
      "Up    141.0  507.0\n",
      "\n",
      "The model made 0.5216 % correct predictions on the TRAINING SET.\n"
     ]
    }
   ],
   "source": [
    "# we can now build a confusion matrix to asses the correct and incorrect predictions. \n",
    "table = results.pred_table(threshold=0.5)\n",
    "confusion_df = pd.DataFrame(table,['Down','Up'],['Down','Up'])\n",
    "print(confusion_df)\n",
    "print('')\n",
    "\n",
    "print('The model made', \n",
    "      (confusion_df.Down[0]+confusion_df.Up[1])/confusion_df.sum().sum(), '% correct predictions on the TRAINING SET.')"
   ]
  },
  {
   "cell_type": "markdown",
   "metadata": {},
   "source": [
    "#### Split the data into a training and test set and recompute the model's accuracy on the test set."
   ]
  },
  {
   "cell_type": "code",
   "execution_count": 35,
   "metadata": {},
   "outputs": [
    {
     "name": "stdout",
     "output_type": "stream",
     "text": [
      "Optimization terminated successfully.\n",
      "         Current function value: 0.691936\n",
      "         Iterations 4\n",
      "\n",
      " The model made 0.4801587301587302 % correct predictions on the TEST SET.\n"
     ]
    },
    {
     "data": {
      "text/html": [
       "<div>\n",
       "<style scoped>\n",
       "    .dataframe tbody tr th:only-of-type {\n",
       "        vertical-align: middle;\n",
       "    }\n",
       "\n",
       "    .dataframe tbody tr th {\n",
       "        vertical-align: top;\n",
       "    }\n",
       "\n",
       "    .dataframe thead th {\n",
       "        text-align: right;\n",
       "    }\n",
       "</style>\n",
       "<table border=\"1\" class=\"dataframe\">\n",
       "  <thead>\n",
       "    <tr style=\"text-align: right;\">\n",
       "      <th></th>\n",
       "      <th>Down</th>\n",
       "      <th>Up</th>\n",
       "    </tr>\n",
       "  </thead>\n",
       "  <tbody>\n",
       "    <tr>\n",
       "      <th>Down</th>\n",
       "      <td>77.0</td>\n",
       "      <td>97.0</td>\n",
       "    </tr>\n",
       "    <tr>\n",
       "      <th>Up</th>\n",
       "      <td>34.0</td>\n",
       "      <td>44.0</td>\n",
       "    </tr>\n",
       "  </tbody>\n",
       "</table>\n",
       "</div>"
      ],
      "text/plain": [
       "      Down    Up\n",
       "Down  77.0  97.0\n",
       "Up    34.0  44.0"
      ]
     },
     "execution_count": 35,
     "metadata": {},
     "output_type": "execute_result"
    }
   ],
   "source": [
    "# Split the data into training and test dataframes\n",
    "training_df = market_df[market_df.Year<2005]\n",
    "test_df = market_df[market_df.Year==2005]\n",
    "\n",
    "# Compute Training Coeffecients #\n",
    "#################################\n",
    "# Use the lags and volume as predictors for the years 2001 to 2004 (training set)\n",
    "predictors = training_df.columns[1:7]\n",
    "# Create the design matrix for the training_df\n",
    "X_train = sm.add_constant(training_df[predictors])\n",
    "\n",
    "# Encode the response as 0,1 for down/up for response variable of the training set\n",
    "Y_train = pd.Series([1 if el=='Up' else 0 for el in training_df.Direction.values],index=X_train.index)\n",
    "# fit the model and return the training results\n",
    "train_logit = sm.Logit(Y_train,X_train)\n",
    "train_results = train_logit.fit()\n",
    "\n",
    "# Make Predictions on Test Set #\n",
    "################################\n",
    "# make a design matrix for the testing data\n",
    "X_test = sm.add_constant(test_df[predictors])\n",
    "\n",
    "# Encode the response as 0,1 for down/up for response variable of the test set\n",
    "Y_test = pd.Series([1 if el=='Up' else 0 for el in test_df.Direction.values],index=X_test.index)\n",
    "\n",
    "# now use the training coeffecients to make predictions about the returns of the testing set (year=2005)\n",
    "test_predictions = train_results.predict(X_test)\n",
    "\n",
    "# Convert the probability predictions to a binary prediction\n",
    "prediction_array = np.array(test_predictions > 0.5, dtype=float)\n",
    "\n",
    "# print the percentage of correct predictions\n",
    "print('')\n",
    "print(' The model made', np.mean(prediction_array == Y_test),'% correct predictions on the TEST SET.')\n",
    "\n",
    "# Compute Test Confusion Matrix #\n",
    "#################################\n",
    "# Stats models doesn't have an option for a confusion matrix for test sets-- we build one by hand using\n",
    "# hsitogram2d\n",
    "table = np.histogram2d(prediction_array, Y_test, bins=2)[0]\n",
    "pd.DataFrame(table, ['Down', 'Up'], ['Down', 'Up'])"
   ]
  },
  {
   "cell_type": "markdown",
   "metadata": {},
   "source": [
    "#### Fit a model using only the two lowest p-value lag variables (lag1 and lag2)."
   ]
  },
  {
   "cell_type": "markdown",
   "metadata": {},
   "source": [
    "Adding non-significant variables to our model reduces the performance on the training set because it causes an increase in the model variance without a corresponding decrease in the bias. We now fit a reduced model with only the lag1 and lag2 variables since these two had the lowest p-values in the full model."
   ]
  },
  {
   "cell_type": "code",
   "execution_count": 39,
   "metadata": {},
   "outputs": [
    {
     "name": "stdout",
     "output_type": "stream",
     "text": [
      "Optimization terminated successfully.\n",
      "         Current function value: 0.692085\n",
      "         Iterations 3\n",
      "\n",
      " The model made 0.5595238095238095 % correct predictions on the TEST SET using ['Lag1', 'Lag2'] predictors.\n",
      "\n",
      "\n",
      "On days where the previous day was 'Up' the probability the market will be 'Up' is 0.5824175824175825\n"
     ]
    },
    {
     "data": {
      "text/html": [
       "<div>\n",
       "<style scoped>\n",
       "    .dataframe tbody tr th:only-of-type {\n",
       "        vertical-align: middle;\n",
       "    }\n",
       "\n",
       "    .dataframe tbody tr th {\n",
       "        vertical-align: top;\n",
       "    }\n",
       "\n",
       "    .dataframe thead th {\n",
       "        text-align: right;\n",
       "    }\n",
       "</style>\n",
       "<table border=\"1\" class=\"dataframe\">\n",
       "  <thead>\n",
       "    <tr style=\"text-align: right;\">\n",
       "      <th></th>\n",
       "      <th>Down</th>\n",
       "      <th>Up</th>\n",
       "    </tr>\n",
       "  </thead>\n",
       "  <tbody>\n",
       "    <tr>\n",
       "      <th>Down</th>\n",
       "      <td>35.0</td>\n",
       "      <td>35.0</td>\n",
       "    </tr>\n",
       "    <tr>\n",
       "      <th>Up</th>\n",
       "      <td>76.0</td>\n",
       "      <td>106.0</td>\n",
       "    </tr>\n",
       "  </tbody>\n",
       "</table>\n",
       "</div>"
      ],
      "text/plain": [
       "      Down     Up\n",
       "Down  35.0   35.0\n",
       "Up    76.0  106.0"
      ]
     },
     "execution_count": 39,
     "metadata": {},
     "output_type": "execute_result"
    }
   ],
   "source": [
    "# Compute Reduced Training Model Coeffecients #\n",
    "###############################################\n",
    "# use lag 1 and lag 2 as the predictors\n",
    "predictors = ['Lag1','Lag2']\n",
    "X_train_red = sm.add_constant(training_df[predictors])\n",
    "\n",
    "# Encode the response as 0,1 for down/up for response variable of the training set\n",
    "Y_train_red = pd.Series([1 if el=='Up' else 0 for el in training_df.Direction.values],index=X_train_red.index)\n",
    "\n",
    "# fit the model and return the training results\n",
    "train_logit_red = sm.Logit(Y_train_red,X_train_red)\n",
    "train_results_red = train_logit_red.fit()\n",
    "\n",
    "# Make Predictions on Test Set #\n",
    "################################\n",
    "# make design matrix for testing data\n",
    "X_test_red = sm.add_constant(test_df[predictors])\n",
    "\n",
    "# Encode the response as 0,1 for down/up for response variable of the test set\n",
    "Y_test_red = pd.Series([1 if el=='Up' else 0 for el in test_df.Direction.values],index=X_test_red.index)\n",
    "\n",
    "# now use the training coeffecients to make predictions about the returns of the testing set (year=2005)\n",
    "test_predictions_red = train_results_red.predict(X_test_red)\n",
    "\n",
    "# Convert the probability predictions to a binary prediction\n",
    "prediction_array_red = np.array(test_predictions_red > 0.5, dtype=float)\n",
    "\n",
    "# print the percentage of correct predictions\n",
    "print('')\n",
    "print(' The model made', np.mean(prediction_array_red == Y_test_red),\n",
    "      '% correct predictions on the TEST SET using', predictors, 'predictors.')\n",
    "print('')\n",
    "\n",
    "# Compute Test Confusion Matrix #\n",
    "#################################\n",
    "# Stats models doesn't have an option for a confusion matrix for test sets-- we build one by hand using\n",
    "# hsitogram2d\n",
    "table = np.histogram2d(prediction_array_red, Y_test_red, bins=2)[0]\n",
    "confusion_mat = pd.DataFrame(table, ['Down', 'Up'], ['Down', 'Up'])\n",
    "print('')\n",
    "print('On days where the previous day was \\'Up\\' the probability the market will be \\'Up\\' is',\n",
    "      table[1][1]/(table[1][0]+table[1][1]))\n",
    "\n",
    "confusion_mat"
   ]
  },
  {
   "cell_type": "code",
   "execution_count": 42,
   "metadata": {},
   "outputs": [
    {
     "data": {
      "text/plain": [
       "0    0.479146\n",
       "1    0.496094\n",
       "dtype: float64"
      ]
     },
     "execution_count": 42,
     "metadata": {},
     "output_type": "execute_result"
    }
   ],
   "source": [
    "# make design matrix for testing data\n",
    "X_test_red = sm.add_constant(pd.DataFrame({'Lag1':[1.2, 1.5],'Lag2':[1.1, -0.8]}))\n",
    "\n",
    "# now use the training coeffecients to make predictions about the returns of the testing set (year=2005)\n",
    "test_predictions_red = train_results_red.predict(X_test_red)\n",
    "test_predictions_red"
   ]
  },
  {
   "cell_type": "markdown",
   "metadata": {
    "collapsed": true
   },
   "source": [
    "## 4.6.3 Linear Discriminant Analysis of Market Direction"
   ]
  },
  {
   "cell_type": "markdown",
   "metadata": {},
   "source": [
    "Predict the market direction using Lag1 and Lag2 as predictors using scikit learn LDA module."
   ]
  },
  {
   "cell_type": "code",
   "execution_count": 61,
   "metadata": {},
   "outputs": [
    {
     "name": "stdout",
     "output_type": "stream",
     "text": [
      "Class Priors = [0.492 0.508]\n",
      "Class Means = [[ 0.0428  0.0339]\n",
      " [-0.0395 -0.0313]]\n",
      "Class Coefficients = [[-0.0556 -0.0444]]\n"
     ]
    }
   ],
   "source": [
    "#### LDA Model\n",
    "\n",
    "'''\n",
    "    Linear Discriminant Analysis\n",
    "\n",
    "    A classifier with a linear decision boundary, generated by fitting class\n",
    "    conditional densities to the data and using Bayes' rule.\n",
    "\n",
    "    The model fits a Gaussian density to each class, assuming that all classes\n",
    "    share the same covariance matrix.\n",
    "\n",
    "    The fitted model can also be used to reduce the dimensionality of the input\n",
    "    by projecting it to the most discriminative directions.\n",
    "    \n",
    "'''\n",
    "\n",
    "#### Training data\n",
    "X_train = training_df[[\"Lag1\", \"Lag2\"]].values\n",
    "Y_train = training_df[\"Direction2\"].values\n",
    "\n",
    "# Create Classifier\n",
    "lda_model = LDA(solver=\"lsqr\")\n",
    "\n",
    "# Fit model\n",
    "lda_model.fit(X_train, Y_train)\n",
    "\n",
    "print('Class Priors =', lda_model.priors_)\n",
    "print('Class Means =', lda_model.means_)\n",
    "print('Class Coefficients =', lda_model.coef_)"
   ]
  },
  {
   "cell_type": "code",
   "execution_count": 80,
   "metadata": {},
   "outputs": [
    {
     "data": {
      "image/png": "[encoded data removed]",
      "text/plain": [
       "<Figure size 576x576 with 1 Axes>"
      ]
     },
     "metadata": {},
     "output_type": "display_data"
    }
   ],
   "source": [
    "# Make a scatter plot of the lag predictors and show the Bayes decision boundary\n",
    "\n",
    "# Scatter plot the data colored by market direction #\n",
    "#####################################################\n",
    "fig, ax = plt.subplots(figsize = (8, 8))\n",
    "\n",
    "# Plot the training lags color coded by market direction\n",
    "ax.scatter(X_train[Y_train == 1][:, 0], X_train[Y_train == 1][:, 1], facecolor = \"None\", edgecolor = \"r\", label = \"Up\")\n",
    "ax.scatter(X_train[Y_train == 0][:, 0], X_train[Y_train == 0][:, 1], facecolor = \"None\", edgecolor = \"b\", label = \"Down\")\n",
    "\n",
    "# Calculate Bayes Decision Boundary #\n",
    "#####################################\n",
    "# Construct a meshgrid to calulate Bayes Boundary over\n",
    "nx, ny = 200, 200\n",
    "x_min, x_max = plt.xlim()\n",
    "y_min, y_max = plt.ylim()\n",
    "\n",
    "xx, yy = np.meshgrid(np.linspace(x_min, x_max, nx), np.linspace(y_min, y_max, ny))\n",
    "\n",
    "# Use predict_proba to calculate Probability at each x1,x2 pair\n",
    "Z = lda_model.predict_proba(np.c_[xx.ravel(), yy.ravel()])\n",
    "Z = Z[:, 1].reshape(xx.shape)\n",
    "\n",
    "# The Bayes Boundary for k=2 classes is the contour where P(Y=k|X=x) = 0.5\n",
    "cp = ax.contour(xx, yy, Z, [0.5], linewidths=1., colors='k');\n",
    "plt.clabel(cp, inline=True, fmt='Bayes Decision Boundary',fontsize=8)\n",
    "\n",
    "# Plot mean lag vector (lag1,lag2) for each class 'Up' and 'Down' #\n",
    "###################################################################\n",
    "ax.plot(lda_model.means_[0][0], lda_model.means_[0][1], 'o', color='blue', markersize=10);\n",
    "ax.plot(lda_model.means_[1][0], lda_model.means_[1][1], 'o', color='red', markersize=10);\n",
    "\n",
    "ax.set_xlabel('Lag1')\n",
    "ax.set_ylabel('Lag2')\n",
    "ax.legend(loc='best');"
   ]
  },
  {
   "cell_type": "code",
   "execution_count": 103,
   "metadata": {},
   "outputs": [
    {
     "name": "stdout",
     "output_type": "stream",
     "text": [
      "      Down     Up\n",
      "Down  35.0   35.0\n",
      "Up    76.0  106.0\n"
     ]
    }
   ],
   "source": [
    "# Get the models predictions for market directions on the test set\n",
    "Y_predict = lda_model.predict_proba(test_df[predictors].values)[:, 1]\n",
    "Y_predict = np.array(Y_predict > 0.5, dtype=float)\n",
    "# get the actual market directions from the testing dataframe\n",
    "Y_test = np.array([1 if el=='Up' else 0 for el in test_df.Direction.values])\n",
    "\n",
    "# Compute Test Confusion Matrix #\n",
    "#################################\n",
    "table = np.histogram2d(Y_predict, Y_test , bins=2)[0]\n",
    "print(pd.DataFrame(table, ['Down', 'Up'], ['Down', 'Up']))\n",
    "# same results as using the logistic function"
   ]
  },
  {
   "cell_type": "code",
   "execution_count": 104,
   "metadata": {},
   "outputs": [
    {
     "name": "stdout",
     "output_type": "stream",
     "text": [
      "       Down     Up\n",
      "Down    0.0    0.0\n",
      "Up    111.0  141.0\n"
     ]
    }
   ],
   "source": [
    "# Get the models predictions for market directions on the test set\n",
    "Y_predict = lda_model.predict_proba(test_df[predictors].values)[:, 1]\n",
    "Y_predict = np.array(Y_predict > 0.9, dtype=float)\n",
    "# get the actual market directions from the testing dataframe\n",
    "Y_test = np.array([1 if el=='Up' else 0 for el in test_df.Direction.values])\n",
    "\n",
    "# Compute Test Confusion Matrix #\n",
    "#################################\n",
    "table = np.histogram2d(Y_predict, Y_test , bins=2)[0]\n",
    "print(pd.DataFrame(table, ['Down', 'Up'], ['Down', 'Up']))\n",
    "# same results as using the logistic function"
   ]
  },
  {
   "cell_type": "markdown",
   "metadata": {},
   "source": [
    "## 4.6.4 Quadratic Discriminant Analysis of Market Direction"
   ]
  },
  {
   "cell_type": "code",
   "execution_count": 108,
   "metadata": {},
   "outputs": [
    {
     "name": "stdout",
     "output_type": "stream",
     "text": [
      "Class Priors = [0.492 0.508]\n",
      "Class Means = [[ 0.0428  0.0339]\n",
      " [-0.0395 -0.0313]]\n"
     ]
    }
   ],
   "source": [
    "#### LDA Model\n",
    "\n",
    "'''\n",
    "    Quadratic Discriminant Analysis\n",
    "\n",
    "    A classifier with a quadratic decision boundary, generated\n",
    "    by fitting class conditional densities to the data\n",
    "    and using Bayes' rule.\n",
    "\n",
    "    The model fits a Gaussian density to each class.\n",
    "    \n",
    "'''\n",
    "\n",
    "#### Training data\n",
    "X_train = training_df[[\"Lag1\", \"Lag2\"]].values\n",
    "Y_train = training_df[\"Direction2\"].values\n",
    "\n",
    "# Create Classifier\n",
    "qda_model = QDA()\n",
    "\n",
    "# Fit model\n",
    "qda_model.fit(X_train, Y_train)\n",
    "\n",
    "print('Class Priors =', qda_model.priors_)\n",
    "print('Class Means =', qda_model.means_)\n"
   ]
  },
  {
   "cell_type": "code",
   "execution_count": 109,
   "metadata": {},
   "outputs": [
    {
     "data": {
      "image/png": "[encoded data removed]",
      "text/plain": [
       "<Figure size 576x576 with 1 Axes>"
      ]
     },
     "metadata": {},
     "output_type": "display_data"
    }
   ],
   "source": [
    "# Make a scatter plot of the lag predictors and show the Bayes decision boundary\n",
    "\n",
    "# Scatter plot the data colored by market direction #\n",
    "#####################################################\n",
    "fig, ax = plt.subplots(figsize = (8, 8))\n",
    "\n",
    "# Plot the training lags color coded by market direction\n",
    "ax.scatter(X_train[Y_train == 1][:, 0], X_train[Y_train == 1][:, 1], facecolor = \"None\", edgecolor = \"r\", label = \"Up\")\n",
    "ax.scatter(X_train[Y_train == 0][:, 0], X_train[Y_train == 0][:, 1], facecolor = \"None\", edgecolor = \"b\", label = \"Down\")\n",
    "\n",
    "# Calculate Bayes Decision Boundary #\n",
    "#####################################\n",
    "# Construct a meshgrid to calulate Bayes Boundary over\n",
    "nx, ny = 200, 200\n",
    "x_min, x_max = plt.xlim()\n",
    "y_min, y_max = plt.ylim()\n",
    "\n",
    "xx, yy = np.meshgrid(np.linspace(x_min, x_max, nx), np.linspace(y_min, y_max, ny))\n",
    "\n",
    "# Use predict_proba to calculate Probability at each x1,x2 pair\n",
    "Z = qda_model.predict_proba(np.c_[xx.ravel(), yy.ravel()])\n",
    "Z = Z[:, 1].reshape(xx.shape)\n",
    "\n",
    "# The Bayes Boundary for k=2 classes is the contour where P(Y=k|X=x) = 0.5\n",
    "cp = ax.contour(xx, yy, Z, [0.5], linewidths=1., colors='k');\n",
    "plt.clabel(cp, inline=True, fmt='Bayes Decision Boundary',fontsize=8)\n",
    "\n",
    "# Plot mean lag vector (lag1,lag2) for each class 'Up' and 'Down' #\n",
    "###################################################################\n",
    "ax.plot(qda_model.means_[0][0], qda_model.means_[0][1], 'o', color='blue', markersize=10);\n",
    "ax.plot(qda_model.means_[1][0], qda_model.means_[1][1], 'o', color='red', markersize=10);\n",
    "\n",
    "ax.set_xlabel('Lag1')\n",
    "ax.set_ylabel('Lag2')\n",
    "ax.legend(loc='best');"
   ]
  },
  {
   "cell_type": "code",
   "execution_count": 110,
   "metadata": {},
   "outputs": [
    {
     "name": "stdout",
     "output_type": "stream",
     "text": [
      "      Down     Up\n",
      "Down  30.0   20.0\n",
      "Up    81.0  121.0\n"
     ]
    }
   ],
   "source": [
    "# Get the models predictions for market directions on the test set\n",
    "Y_predict = qda_model.predict_proba(test_df[predictors].values)[:, 1]\n",
    "Y_predict = np.array(Y_predict > 0.5, dtype=float)\n",
    "# get the actual market directions from the testing dataframe\n",
    "Y_test = np.array([1 if el=='Up' else 0 for el in test_df.Direction.values])\n",
    "\n",
    "# Compute Test Confusion Matrix #\n",
    "#################################\n",
    "table = np.histogram2d(Y_predict, Y_test , bins=2)[0]\n",
    "print(pd.DataFrame(table, ['Down', 'Up'], ['Down', 'Up']))\n",
    "# same results as using the logistic function"
   ]
  },
  {
   "cell_type": "markdown",
   "metadata": {},
   "source": [
    "## 4.6.5 K-Nearest Neighbors"
   ]
  },
  {
   "cell_type": "code",
   "execution_count": 112,
   "metadata": {},
   "outputs": [
    {
     "data": {
      "text/plain": [
       "KNeighborsClassifier(algorithm='auto', leaf_size=30, metric='minkowski',\n",
       "           metric_params=None, n_jobs=1, n_neighbors=1, p=2,\n",
       "           weights='uniform')"
      ]
     },
     "execution_count": 112,
     "metadata": {},
     "output_type": "execute_result"
    }
   ],
   "source": [
    "# Build a KNN classifier \n",
    "training_labels = training_df[\"Direction\"].values\n",
    "\n",
    "knn_1 = KNeighborsClassifier(n_neighbors= 1)\n",
    "knn_1.fit(X_train, training_labels)"
   ]
  },
  {
   "cell_type": "markdown",
   "metadata": {},
   "source": [
    "The Minkowski metric with p=2 is just the standard Euclidean distance metric."
   ]
  },
  {
   "cell_type": "code",
   "execution_count": 114,
   "metadata": {},
   "outputs": [
    {
     "name": "stdout",
     "output_type": "stream",
     "text": [
      "      Down    Up\n",
      "Down  43.0  58.0\n",
      "Up    68.0  83.0\n",
      "\n",
      "The model makes 50.0000 correct predictions\n"
     ]
    }
   ],
   "source": [
    "# Make predictions using the model on the test set the predictors are still lag1 and lag2\n",
    "# Get the models predictions for market directions on the test set\n",
    "predicted_labels = knn_1.predict(test_df[predictors])\n",
    "\n",
    "# get the actual market directions from the testing dataframe\n",
    "testing_labels = test_df[\"Direction\"].values\n",
    "\n",
    "# Compute Test Confusion Matrix #\n",
    "#################################\n",
    "predicted_values = np.array([1 if el=='Up' else 0 for el in predicted_labels])\n",
    "testing_values = np.array([1 if el=='Up' else 0 for el in testing_labels])\n",
    "\n",
    "table = np.histogram2d(predicted_values, testing_values , bins=2)[0]\n",
    "print(pd.DataFrame(table, ['Down', 'Up'], ['Down', 'Up']))\n",
    "print('')\n",
    "print('The model makes {0:.4f} correct predictions'.format(100*np.mean(predicted_values==testing_values)))\n"
   ]
  },
  {
   "cell_type": "code",
   "execution_count": 115,
   "metadata": {},
   "outputs": [
    {
     "data": {
      "text/plain": [
       "KNeighborsClassifier(algorithm='auto', leaf_size=30, metric='minkowski',\n",
       "           metric_params=None, n_jobs=1, n_neighbors=3, p=2,\n",
       "           weights='uniform')"
      ]
     },
     "execution_count": 115,
     "metadata": {},
     "output_type": "execute_result"
    }
   ],
   "source": [
    "# Build a KNN classifier \n",
    "training_labels = training_df[\"Direction\"].values\n",
    "\n",
    "knn_1 = KNeighborsClassifier(n_neighbors= 3)\n",
    "knn_1.fit(X_train, training_labels)"
   ]
  },
  {
   "cell_type": "code",
   "execution_count": 116,
   "metadata": {},
   "outputs": [
    {
     "name": "stdout",
     "output_type": "stream",
     "text": [
      "      Down    Up\n",
      "Down  48.0  55.0\n",
      "Up    63.0  86.0\n",
      "\n",
      "The model makes 53.1746 correct predictions\n"
     ]
    }
   ],
   "source": [
    "# Make predictions using the model on the test set the predictors are still lag1 and lag2\n",
    "# Get the models predictions for market directions on the test set\n",
    "predicted_labels = knn_1.predict(test_df[predictors])\n",
    "\n",
    "# get the actual market directions from the testing dataframe\n",
    "testing_labels = test_df[\"Direction\"].values\n",
    "\n",
    "# Compute Test Confusion Matrix #\n",
    "#################################\n",
    "predicted_values = np.array([1 if el=='Up' else 0 for el in predicted_labels])\n",
    "testing_values = np.array([1 if el=='Up' else 0 for el in testing_labels])\n",
    "\n",
    "table = np.histogram2d(predicted_values, testing_values , bins=2)[0]\n",
    "print(pd.DataFrame(table, ['Down', 'Up'], ['Down', 'Up']))\n",
    "print('')\n",
    "print('The model makes {0:.4f} correct predictions'.format(100*np.mean(predicted_values==testing_values)))\n"
   ]
  },
  {
   "cell_type": "markdown",
   "metadata": {},
   "source": [
    "## 4.6.6 K-Nearest Neighbors Applied to Caravan Insurance Data"
   ]
  },
  {
   "cell_type": "code",
   "execution_count": 117,
   "metadata": {},
   "outputs": [
    {
     "data": {
      "text/plain": [
       "(5822, 86)"
      ]
     },
     "execution_count": 117,
     "metadata": {},
     "output_type": "execute_result"
    }
   ],
   "source": [
    "# get dim of caravan data. There are 85 predictors involving various demograpic characteristics for 5822 individuals.\n",
    "caravan_df.shape"
   ]
  },
  {
   "cell_type": "code",
   "execution_count": 118,
   "metadata": {},
   "outputs": [
    {
     "name": "stdout",
     "output_type": "stream",
     "text": [
      "Purchase\n",
      "1    No\n",
      "2    No\n",
      "3    No\n",
      "Name: Purchase, dtype: object\n"
     ]
    },
    {
     "data": {
      "text/plain": [
       "count     5822\n",
       "unique       2\n",
       "top         No\n",
       "freq      5474\n",
       "Name: Purchase, dtype: object"
      ]
     },
     "execution_count": 118,
     "metadata": {},
     "output_type": "execute_result"
    }
   ],
   "source": [
    "# This last column is describes whether the individual purchased insurance \n",
    "print(caravan_df.columns[-1])\n",
    "print(caravan_df.Purchase[:3])\n",
    "caravan_df.Purchase.describe()"
   ]
  },
  {
   "cell_type": "code",
   "execution_count": 119,
   "metadata": {},
   "outputs": [
    {
     "name": "stdout",
     "output_type": "stream",
     "text": [
      "The probability an individual purchased car insurance was, 0.05977327378907593\n"
     ]
    }
   ],
   "source": [
    "print('The probability an individual purchased car insurance was,',\n",
    "      1- caravan_df.Purchase.describe().freq / len(caravan_df.Purchase))"
   ]
  },
  {
   "cell_type": "code",
   "execution_count": 120,
   "metadata": {},
   "outputs": [
    {
     "name": "stderr",
     "output_type": "stream",
     "text": [
      "C:\\DS_Softwares\\anaconda3\\envs\\tensorflowcpu\\lib\\site-packages\\sklearn\\utils\\validation.py:475: DataConversionWarning: Data with input dtype int64 was converted to float64 by the scale function.\n",
      "  warnings.warn(msg, DataConversionWarning)\n"
     ]
    },
    {
     "name": "stdout",
     "output_type": "stream",
     "text": [
      "The error rate for k=1 is 11.345 %\n",
      "        No   Yes\n",
      "No   876.0  47.0\n",
      "Yes   66.0   7.0\n",
      "\n",
      "There were 73 customers predicted to buy insurance. The actual number who purchased was 7. This gives 9.589 %\n"
     ]
    }
   ],
   "source": [
    "np.random.seed(0)\n",
    "# Standardize the Variables #\n",
    "#############################\n",
    "X = scale(caravan_df.iloc[:,0:85].values, axis=0)\n",
    "\n",
    "# check that X[:,1] is now standardized\n",
    "#print('mean =', np.mean(X[:,0]), 'variance = ', np.var(X[:,0]))\n",
    "\n",
    "# Split the Data #\n",
    "##################\n",
    "# Get the response variable coding 0's and 1's\n",
    "Y = np.array([1 if el=='Yes' else 0 for el in caravan_df.Purchase.values])\n",
    "\n",
    "# Choose a random subset of the data, note the text does not randomly choose but it is a good idea\n",
    "# number of training points\n",
    "num_train_points = 1000\n",
    "\n",
    "points = np.random.choice([False,True],size=len(X), p=[1-num_train_points/len(X) ,num_train_points/len(X)])\n",
    "\n",
    "# Split the data into training and testing sets and get the responses\n",
    "X_train = X[~points]\n",
    "X_test = X[points]\n",
    "\n",
    "# Build a k=1 neighbor classifier from the training data #\n",
    "##########################################################\n",
    "num_neighbors = 1\n",
    "knn = KNeighborsClassifier(n_neighbors=num_neighbors)\n",
    "Y_train = Y[~points]\n",
    "knn.fit(X_train, Y_train)\n",
    "\n",
    "# Make Label Predictions on the Test Data #\n",
    "###########################################\n",
    "predicted_labels = knn.predict(X_test)\n",
    "actual_labels = Y[points]\n",
    "# get the error rate\n",
    "error_rate = np.mean(predicted_labels != actual_labels)\n",
    "print('The error rate for k={0:d} is {1:.3f} %'.format(num_neighbors, 100*error_rate))\n",
    "# Note that the number of people who bought car insurance was just under 6% so if we always predicted no we would \n",
    "# get an error rate of 6%\n",
    "\n",
    "# Make a confusion matrix #\n",
    "###########################\n",
    "table = np.histogram2d(predicted_labels, actual_labels , bins=2)[0]\n",
    "print(pd.DataFrame(table, ['No', 'Yes'], ['No', 'Yes']))\n",
    "print('')\n",
    "print('There were {0:.0f} customers predicted to buy insurance. The actual number who purchased was {1:.0f}. This gives {2:.3f} %'.format(table[1,0]+table[1,1], table[1,1], 100*table[1,1]/(table[1,0]+table[1,1])))\n"
   ]
  },
  {
   "cell_type": "code",
   "execution_count": null,
   "metadata": {},
   "outputs": [],
   "source": []
  },
  {
   "cell_type": "code",
   "execution_count": 121,
   "metadata": {},
   "outputs": [
    {
     "name": "stdout",
     "output_type": "stream",
     "text": [
      "        No   Yes\n",
      "No   924.0  51.0\n",
      "Yes   18.0   3.0\n",
      "\n",
      "There were 21 customers predicted to buy insurance. The actual number who purchased was 3. This gives 14.286 %\n"
     ]
    }
   ],
   "source": [
    "# Build a k=3 Neighbor Classifier #\n",
    "###################################\n",
    "num_neighbors = 3\n",
    "knn = KNeighborsClassifier(n_neighbors=num_neighbors)\n",
    "Y_train = Y[~points]\n",
    "knn.fit(X_train, Y_train)\n",
    "\n",
    "# Make Label Predictions on the Test Data #\n",
    "###########################################\n",
    "predicted_labels = knn.predict(X_test)\n",
    "actual_labels = Y[points]\n",
    "\n",
    "# Make a confusion matrix #\n",
    "###########################\n",
    "table = np.histogram2d(predicted_labels, actual_labels , bins=2)[0]\n",
    "print(pd.DataFrame(table, ['No', 'Yes'], ['No', 'Yes']))\n",
    "print('')\n",
    "print('There were {0:.0f} customers predicted to buy insurance. The actual number who purchased was {1:.0f}. This gives {2:.3f} %'.format(table[1,0]+table[1,1], table[1,1], 100*table[1,1]/(table[1,0]+table[1,1])))\n"
   ]
  },
  {
   "cell_type": "code",
   "execution_count": 122,
   "metadata": {},
   "outputs": [
    {
     "name": "stdout",
     "output_type": "stream",
     "text": [
      "        No   Yes\n",
      "No   936.0  51.0\n",
      "Yes    6.0   3.0\n",
      "\n",
      "There were 9 customers predicted to buy insurance. The actual number who purchased was 3. This gives 33.333 %\n"
     ]
    }
   ],
   "source": [
    "# Build a k=5 Neighbor Classifier #\n",
    "###################################\n",
    "num_neighbors = 5\n",
    "knn = KNeighborsClassifier(n_neighbors=num_neighbors)\n",
    "Y_train = Y[~points]\n",
    "knn.fit(X_train, Y_train)\n",
    "\n",
    "# Make Label Predictions on the Test Data #\n",
    "###########################################\n",
    "predicted_labels = knn.predict(X_test)\n",
    "actual_labels = Y[points]\n",
    "\n",
    "# Make a confusion matrix #\n",
    "###########################\n",
    "table = np.histogram2d(predicted_labels, actual_labels , bins=2)[0]\n",
    "print(pd.DataFrame(table, ['No', 'Yes'], ['No', 'Yes']))\n",
    "print('')\n",
    "print('There were {0:.0f} customers predicted to buy insurance. The actual number who purchased was {1:.0f}. This gives {2:.3f} %'.format(table[1,0]+table[1,1], table[1,1], 100*table[1,1]/(table[1,0]+table[1,1])))\n"
   ]
  },
  {
   "cell_type": "code",
   "execution_count": null,
   "metadata": {},
   "outputs": [],
   "source": []
  }
 ],
 "metadata": {
  "kernelspec": {
   "display_name": "Python [conda env:tensorflowcpu]",
   "language": "python",
   "name": "conda-env-tensorflowcpu-py"
  },
  "language_info": {
   "codemirror_mode": {
    "name": "ipython",
    "version": 3
   },
   "file_extension": ".py",
   "mimetype": "text/x-python",
   "name": "python",
   "nbconvert_exporter": "python",
   "pygments_lexer": "ipython3",
   "version": "3.6.6"
  },
  "latex_envs": {
   "LaTeX_envs_menu_present": true,
   "autoclose": false,
   "autocomplete": true,
   "bibliofile": "biblio.bib",
   "cite_by": "apalike",
   "current_citInitial": 1,
   "eqLabelWithNumbers": true,
   "eqNumInitial": 1,
   "hotkeys": {
    "equation": "Ctrl-E",
    "itemize": "Ctrl-I"
   },
   "labels_anchors": false,
   "latex_user_defs": false,
   "report_style_numbering": false,
   "user_envs_cfg": false
  }
 },
 "nbformat": 4,
 "nbformat_minor": 2
}
