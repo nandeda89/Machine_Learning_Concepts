{
 "cells": [
  {
   "cell_type": "markdown",
   "metadata": {
    "_cell_guid": "9a45f08b-c554-1b35-a50d-c64150d6f789"
   },
   "source": [
    "In this notebook, we will try and explore the basic information about the dataset given. The dataset for this competition is a relational set of files describing customers' orders over time. \n",
    "\n",
    "**Objective:** \n",
    "\n",
    "The goal of the competition is to predict which products will be in a user's next order. The dataset is anonymized and contains a sample of over 3 million grocery orders from more than 200,000 Instacart users.\n",
    "\n",
    "For each user, 4 and 100 of their orders are given, with the sequence of products purchased in each order\n",
    "\n",
    "Let us start by importing the necessary modules."
   ]
  },
  {
   "cell_type": "code",
   "execution_count": null,
   "metadata": {
    "_cell_guid": "4c76ddb9-4f12-d6d2-56aa-82c3254de71a"
   },
   "outputs": [],
   "source": [
    "import numpy as np # linear algebra\n",
    "import pandas as pd # data processing, CSV file I/O (e.g. pd.read_csv)\n",
    "import matplotlib.pyplot as plt\n",
    "import seaborn as sns\n",
    "color = sns.color_palette()\n",
    "\n",
    "%matplotlib inline\n",
    "\n",
    "pd.options.mode.chained_assignment = None  # default='warn'"
   ]
  },
  {
   "cell_type": "markdown",
   "metadata": {
    "_cell_guid": "96355f94-3cd7-f536-0cf2-dfde8441a46a"
   },
   "source": [
    "Let us list out the files that are present in this competition.!"
   ]
  },
  {
   "cell_type": "code",
   "execution_count": null,
   "metadata": {
    "_cell_guid": "45ad0ba2-2d31-e90d-4e10-83fd3247a859"
   },
   "outputs": [],
   "source": [
    "from subprocess import check_output\n",
    "print(check_output([\"ls\", \"../input\"]).decode(\"utf8\"))"
   ]
  },
  {
   "cell_type": "markdown",
   "metadata": {
    "_cell_guid": "1a44f145-b654-7b37-9528-bcf1a62a6071"
   },
   "source": [
    "Before we dive deep into the exploratory analysis, let us know a little more about the files given. To understand it better, let us first read all the files as dataframe objects and then look at the top few rows."
   ]
  },
  {
   "cell_type": "code",
   "execution_count": null,
   "metadata": {
    "_cell_guid": "398b93eb-873e-728e-be4c-e101adb9d26d"
   },
   "outputs": [],
   "source": [
    "order_products_train_df = pd.read_csv(\"../input/order_products__train.csv\")\n",
    "order_products_prior_df = pd.read_csv(\"../input/order_products__prior.csv\")\n",
    "orders_df = pd.read_csv(\"../input/orders.csv\")\n",
    "products_df = pd.read_csv(\"../input/products.csv\")\n",
    "aisles_df = pd.read_csv(\"../input/aisles.csv\")\n",
    "departments_df = pd.read_csv(\"../input/departments.csv\")"
   ]
  },
  {
   "cell_type": "code",
   "execution_count": null,
   "metadata": {
    "_cell_guid": "baf0cd70-e2cd-5a2f-fec5-281c3e8efa28"
   },
   "outputs": [],
   "source": [
    "orders_df.head()"
   ]
  },
  {
   "cell_type": "code",
   "execution_count": null,
   "metadata": {
    "_cell_guid": "07b7e152-8de3-3a18-d286-7158cba15e5d"
   },
   "outputs": [],
   "source": [
    "order_products_prior_df.head()"
   ]
  },
  {
   "cell_type": "code",
   "execution_count": null,
   "metadata": {
    "_cell_guid": "0db75f9d-fa7d-65b6-4527-65830b84cb50"
   },
   "outputs": [],
   "source": [
    "order_products_train_df.head()"
   ]
  },
  {
   "cell_type": "markdown",
   "metadata": {
    "_cell_guid": "9ce2a903-52ba-d57b-401c-9ed9b3d5269a"
   },
   "source": [
    "As we could see, orders.csv has all the information about the given order id like the user who has purchased the order, when was it purchased, days since prior order and so on.\n",
    "\n",
    "The columns present in order_products_train and order_products_prior are same. Then what is the difference between these files.?\n",
    "\n",
    "As mentioned earlier, in this dataset, 4 to 100 orders of a customer are given (we will look at this later) and we need to predict the products that will be re-ordered. So the last order of the user has been taken out and divided into train and test sets. All the prior order informations of the customer are present in order_products_prior file.  We can also note that there is a column in orders.csv file called eval_set which tells us as to which of the three datasets (prior, train or test) the given row goes to.\n",
    "\n",
    "Order_products*csv file has more detailed information about the products that been bought in the given order along with the re-ordered status.\n",
    "\n",
    "Let us first get the count of rows in each of the three sets."
   ]
  },
  {
   "cell_type": "code",
   "execution_count": null,
   "metadata": {
    "_cell_guid": "71019383-4ad9-62c3-9f9a-d0d5bb326f99"
   },
   "outputs": [],
   "source": [
    "cnt_srs = orders_df.eval_set.value_counts()\n",
    "\n",
    "plt.figure(figsize=(12,8))\n",
    "sns.barplot(cnt_srs.index, cnt_srs.values, alpha=0.8, color=color[1])\n",
    "plt.ylabel('Number of Occurrences', fontsize=12)\n",
    "plt.xlabel('Eval set type', fontsize=12)\n",
    "plt.title('Count of rows in each dataset', fontsize=15)\n",
    "plt.xticks(rotation='vertical')\n",
    "plt.show()"
   ]
  },
  {
   "cell_type": "code",
   "execution_count": null,
   "metadata": {
    "_cell_guid": "4631d5bd-54e4-5057-e3d6-de53f924c5e4"
   },
   "outputs": [],
   "source": [
    "def get_unique_count(x):\n",
    "    return len(np.unique(x))\n",
    "\n",
    "cnt_srs = orders_df.groupby(\"eval_set\")[\"user_id\"].aggregate(get_unique_count)\n",
    "cnt_srs"
   ]
  },
  {
   "cell_type": "markdown",
   "metadata": {
    "_cell_guid": "2a2dc58e-7df6-f42d-8b42-e94e2ece30a2"
   },
   "source": [
    "So there are 206,209 customers in total. Out of which, the last purchase of 131,209 customers are given as train set and we need to predict for the rest 75,000 customers. \n",
    "\n",
    "Now let us validate the claim that 4 to 100 orders of a customer are given. "
   ]
  },
  {
   "cell_type": "code",
   "execution_count": null,
   "metadata": {
    "_cell_guid": "ccddb4a4-1fb7-f1b1-fbaf-80a2d5814522"
   },
   "outputs": [],
   "source": [
    "cnt_srs = orders_df.groupby(\"user_id\")[\"order_number\"].aggregate(np.max).reset_index()\n",
    "cnt_srs = cnt_srs.order_number.value_counts()\n",
    "\n",
    "plt.figure(figsize=(12,8))\n",
    "sns.barplot(cnt_srs.index, cnt_srs.values, alpha=0.8, color=color[2])\n",
    "plt.ylabel('Number of Occurrences', fontsize=12)\n",
    "plt.xlabel('Maximum order number', fontsize=12)\n",
    "plt.xticks(rotation='vertical')\n",
    "plt.show()"
   ]
  },
  {
   "cell_type": "markdown",
   "metadata": {
    "_cell_guid": "e2180926-1db1-aca7-1257-5906d92d24f0"
   },
   "source": [
    "So there are no orders less than 4 and is max capped at 100 as given in the data page. \n",
    "\n",
    "Now let us see how the ordering habit changes with day of week."
   ]
  },
  {
   "cell_type": "code",
   "execution_count": null,
   "metadata": {
    "_cell_guid": "fd013d90-47b5-aa52-fbe4-e86e1f568fb2"
   },
   "outputs": [],
   "source": [
    "plt.figure(figsize=(12,8))\n",
    "sns.countplot(x=\"order_dow\", data=orders_df, color=color[0])\n",
    "plt.ylabel('Count', fontsize=12)\n",
    "plt.xlabel('Day of week', fontsize=12)\n",
    "plt.xticks(rotation='vertical')\n",
    "plt.title(\"Frequency of order by week day\", fontsize=15)\n",
    "plt.show()"
   ]
  },
  {
   "cell_type": "markdown",
   "metadata": {
    "_cell_guid": "c84085f7-f485-bc58-ffff-8794e5e0dc50"
   },
   "source": [
    "Seems like 0 and 1 is Saturday and Sunday when the orders are high and low during Wednesday.\n",
    "\n",
    "Now we shall see how the distribution is with respect to time of the day."
   ]
  },
  {
   "cell_type": "code",
   "execution_count": null,
   "metadata": {
    "_cell_guid": "d5a3cc83-fa06-5657-41c7-46bdbb7f8a72"
   },
   "outputs": [],
   "source": [
    "plt.figure(figsize=(12,8))\n",
    "sns.countplot(x=\"order_hour_of_day\", data=orders_df, color=color[1])\n",
    "plt.ylabel('Count', fontsize=12)\n",
    "plt.xlabel('Hour of day', fontsize=12)\n",
    "plt.xticks(rotation='vertical')\n",
    "plt.title(\"Frequency of order by hour of day\", fontsize=15)\n",
    "plt.show()"
   ]
  },
  {
   "cell_type": "markdown",
   "metadata": {
    "_cell_guid": "ed48981b-dba9-f695-28ca-416f61f7594e"
   },
   "source": [
    "So majority of the orders are made during day time. Now let us combine the day of week and hour of day to see the distribution."
   ]
  },
  {
   "cell_type": "code",
   "execution_count": null,
   "metadata": {
    "_cell_guid": "c8252648-05a3-959f-3e4e-03a3b01012fa"
   },
   "outputs": [],
   "source": [
    "grouped_df = orders_df.groupby([\"order_dow\", \"order_hour_of_day\"])[\"order_number\"].aggregate(\"count\").reset_index()\n",
    "grouped_df = grouped_df.pivot('order_dow', 'order_hour_of_day', 'order_number')\n",
    "\n",
    "plt.figure(figsize=(12,6))\n",
    "sns.heatmap(grouped_df)\n",
    "plt.title(\"Frequency of Day of week Vs Hour of day\")\n",
    "plt.show()"
   ]
  },
  {
   "cell_type": "markdown",
   "metadata": {
    "_cell_guid": "7c70b0de-247b-d415-8b75-a8578461ec91"
   },
   "source": [
    "Seems Satuday evenings and Sunday mornings are the prime time for orders.\n",
    "\n",
    "Now let us check the time interval between the orders."
   ]
  },
  {
   "cell_type": "code",
   "execution_count": null,
   "metadata": {
    "_cell_guid": "2845917a-0999-c9a1-94f2-c2c8e45fbf03"
   },
   "outputs": [],
   "source": [
    "plt.figure(figsize=(12,8))\n",
    "sns.countplot(x=\"days_since_prior_order\", data=orders_df, color=color[3])\n",
    "plt.ylabel('Count', fontsize=12)\n",
    "plt.xlabel('Days since prior order', fontsize=12)\n",
    "plt.xticks(rotation='vertical')\n",
    "plt.title(\"Frequency distribution by days since prior order\", fontsize=15)\n",
    "plt.show()"
   ]
  },
  {
   "cell_type": "markdown",
   "metadata": {
    "_cell_guid": "7edf3a56-1dd0-d0b3-3057-a0eafc57a8ac"
   },
   "source": [
    "Looks like customers order once in every week (check the peak at 7 days) or once in a month (peak at 30 days). We could also see smaller peaks at 14, 21 and 28 days (weekly intervals).\n",
    "\n",
    "Since our objective is to figure out the re-orders, let us check out the re-order percentage in prior set and train set."
   ]
  },
  {
   "cell_type": "code",
   "execution_count": null,
   "metadata": {
    "_cell_guid": "371aeeb5-ae2e-a917-a872-90ef56e063c9"
   },
   "outputs": [],
   "source": [
    "# percentage of re-orders in prior set #\n",
    "order_products_prior_df.reordered.sum() / order_products_prior_df.shape[0]"
   ]
  },
  {
   "cell_type": "code",
   "execution_count": null,
   "metadata": {
    "_cell_guid": "5b2b567e-073a-d9e4-1b64-9ae66ba65188"
   },
   "outputs": [],
   "source": [
    "# percentage of re-orders in train set #\n",
    "order_products_train_df.reordered.sum() / order_products_train_df.shape[0]"
   ]
  },
  {
   "cell_type": "markdown",
   "metadata": {
    "_cell_guid": "bebb053d-7868-27b2-e57c-0997af22cec8"
   },
   "source": [
    "On an average, about 59% of the products in an order are re-ordered products.\n",
    "\n",
    "**No re-ordered products:**\n",
    "\n",
    "Now that we have seen 59% of the products are re-ordered, there will also be situations when none of the products are re-ordered. Let us check that now."
   ]
  },
  {
   "cell_type": "code",
   "execution_count": null,
   "metadata": {
    "_cell_guid": "f3182fcd-77bb-c1e0-a93f-437674bd282a"
   },
   "outputs": [],
   "source": [
    "grouped_df = order_products_prior_df.groupby(\"order_id\")[\"reordered\"].aggregate(\"sum\").reset_index()\n",
    "grouped_df[\"reordered\"].ix[grouped_df[\"reordered\"]>1] = 1\n",
    "grouped_df.reordered.value_counts() / grouped_df.shape[0]"
   ]
  },
  {
   "cell_type": "code",
   "execution_count": null,
   "metadata": {
    "_cell_guid": "d80b43f0-1139-5ed4-475d-c6bd9c144711"
   },
   "outputs": [],
   "source": [
    "grouped_df = order_products_train_df.groupby(\"order_id\")[\"reordered\"].aggregate(\"sum\").reset_index()\n",
    "grouped_df[\"reordered\"].ix[grouped_df[\"reordered\"]>1] = 1\n",
    "grouped_df.reordered.value_counts() / grouped_df.shape[0]"
   ]
  },
  {
   "cell_type": "markdown",
   "metadata": {
    "_cell_guid": "577ca5cd-0222-9f42-d3be-8704d8085d96"
   },
   "source": [
    "About 12% of the orders in prior set has no re-ordered items while in the train set it is 6.5%.\n",
    "\n",
    "Now let us see the number of products bought in each order."
   ]
  },
  {
   "cell_type": "code",
   "execution_count": null,
   "metadata": {
    "_cell_guid": "5f008745-1fa5-96c9-3586-f333689ce032"
   },
   "outputs": [],
   "source": [
    "grouped_df = order_products_train_df.groupby(\"order_id\")[\"add_to_cart_order\"].aggregate(\"max\").reset_index()\n",
    "cnt_srs = grouped_df.add_to_cart_order.value_counts()\n",
    "\n",
    "plt.figure(figsize=(12,8))\n",
    "sns.barplot(cnt_srs.index, cnt_srs.values, alpha=0.8)\n",
    "plt.ylabel('Number of Occurrences', fontsize=12)\n",
    "plt.xlabel('Number of products in the given order', fontsize=12)\n",
    "plt.xticks(rotation='vertical')\n",
    "plt.show()"
   ]
  },
  {
   "cell_type": "markdown",
   "metadata": {
    "_cell_guid": "e04654e3-c4ec-8711-140c-4fad41f421df"
   },
   "source": [
    "A right tailed distribution with the maximum value at 5.!\n",
    "\n",
    "Before we explore the product details, let us look at the other three files as well. "
   ]
  },
  {
   "cell_type": "code",
   "execution_count": null,
   "metadata": {
    "_cell_guid": "c5a01d40-d6e8-efb6-6559-0fc5f674ddb6"
   },
   "outputs": [],
   "source": [
    "products_df.head()"
   ]
  },
  {
   "cell_type": "code",
   "execution_count": null,
   "metadata": {
    "_cell_guid": "c48ba63b-117c-1900-2b4d-24d5a5442e71"
   },
   "outputs": [],
   "source": [
    "aisles_df.head()"
   ]
  },
  {
   "cell_type": "code",
   "execution_count": null,
   "metadata": {
    "_cell_guid": "69cf5c8f-1c10-5731-6a68-3a8141442ae4"
   },
   "outputs": [],
   "source": [
    "departments_df.head()"
   ]
  },
  {
   "cell_type": "markdown",
   "metadata": {
    "_cell_guid": "8898f07d-f6cb-227b-6a03-11cf857b035f"
   },
   "source": [
    "Now let us merge these product details with the order_prior details."
   ]
  },
  {
   "cell_type": "code",
   "execution_count": null,
   "metadata": {
    "_cell_guid": "a8973ae6-4f89-b4b7-18fe-a722fea7c470"
   },
   "outputs": [],
   "source": [
    "order_products_prior_df = pd.merge(order_products_prior_df, products_df, on='product_id', how='left')\n",
    "order_products_prior_df = pd.merge(order_products_prior_df, aisles_df, on='aisle_id', how='left')\n",
    "order_products_prior_df = pd.merge(order_products_prior_df, departments_df, on='department_id', how='left')\n",
    "order_products_prior_df.head()"
   ]
  },
  {
   "cell_type": "code",
   "execution_count": null,
   "metadata": {
    "_cell_guid": "6508267f-4e84-d7fc-55e3-108f683dc751"
   },
   "outputs": [],
   "source": [
    "cnt_srs = order_products_prior_df['product_name'].value_counts().reset_index().head(20)\n",
    "cnt_srs.columns = ['product_name', 'frequency_count']\n",
    "cnt_srs"
   ]
  },
  {
   "cell_type": "markdown",
   "metadata": {
    "_cell_guid": "b199c4ff-16ad-8e99-f8c4-2e11508b390b"
   },
   "source": [
    "Wow. Most of them are organic products.! Also majority of them are fruits. \n",
    "\n",
    "Now let us look at the important aisles."
   ]
  },
  {
   "cell_type": "code",
   "execution_count": null,
   "metadata": {
    "_cell_guid": "e5d7bdb0-3e66-f8e9-22c8-4cfa8b12b632"
   },
   "outputs": [],
   "source": [
    "cnt_srs = order_products_prior_df['aisle'].value_counts().head(20)\n",
    "plt.figure(figsize=(12,8))\n",
    "sns.barplot(cnt_srs.index, cnt_srs.values, alpha=0.8, color=color[5])\n",
    "plt.ylabel('Number of Occurrences', fontsize=12)\n",
    "plt.xlabel('Aisle', fontsize=12)\n",
    "plt.xticks(rotation='vertical')\n",
    "plt.show()"
   ]
  },
  {
   "cell_type": "markdown",
   "metadata": {
    "_cell_guid": "f8464fc1-2e14-a879-e6b3-e30f6e59ca9a"
   },
   "source": [
    "The top two aisles are fresh fruits and fresh vegetables.! \n",
    "\n",
    "**Department Distribution:**\n",
    "\n",
    "Let us now check the department wise distribution."
   ]
  },
  {
   "cell_type": "code",
   "execution_count": null,
   "metadata": {
    "_cell_guid": "26c6b059-5b6e-ad21-588c-cc12fd59dade"
   },
   "outputs": [],
   "source": [
    "plt.figure(figsize=(10,10))\n",
    "temp_series = order_products_prior_df['department'].value_counts()\n",
    "labels = (np.array(temp_series.index))\n",
    "sizes = (np.array((temp_series / temp_series.sum())*100))\n",
    "plt.pie(sizes, labels=labels, \n",
    "        autopct='%1.1f%%', startangle=200)\n",
    "plt.title(\"Departments distribution\", fontsize=15)\n",
    "plt.show()"
   ]
  },
  {
   "cell_type": "markdown",
   "metadata": {
    "_cell_guid": "e3ba7ecb-a613-95eb-369b-c8fd0e0b54e0"
   },
   "source": [
    "Produce is the largest department. Now let us check the reordered percentage of each department. \n",
    "\n",
    "**Department wise reorder ratio:**"
   ]
  },
  {
   "cell_type": "code",
   "execution_count": null,
   "metadata": {
    "_cell_guid": "c16f74ef-6649-3125-457f-e0cdbf6683d1"
   },
   "outputs": [],
   "source": [
    "grouped_df = order_products_prior_df.groupby([\"department\"])[\"reordered\"].aggregate(\"mean\").reset_index()\n",
    "\n",
    "plt.figure(figsize=(12,8))\n",
    "sns.pointplot(grouped_df['department'].values, grouped_df['reordered'].values, alpha=0.8, color=color[2])\n",
    "plt.ylabel('Reorder ratio', fontsize=12)\n",
    "plt.xlabel('Department', fontsize=12)\n",
    "plt.title(\"Department wise reorder ratio\", fontsize=15)\n",
    "plt.xticks(rotation='vertical')\n",
    "plt.show()"
   ]
  },
  {
   "cell_type": "markdown",
   "metadata": {
    "_cell_guid": "5f683942-23a8-cd48-f29e-1fa81329990d"
   },
   "source": [
    "Personal care has lowest reorder ratio and dairy eggs have highest reorder ratio.\n",
    "\n",
    "**Aisle - Reorder ratio:**"
   ]
  },
  {
   "cell_type": "code",
   "execution_count": null,
   "metadata": {
    "_cell_guid": "4b7e41e6-4363-b719-f61f-aa15659cb163"
   },
   "outputs": [],
   "source": [
    "grouped_df = order_products_prior_df.groupby([\"department_id\", \"aisle\"])[\"reordered\"].aggregate(\"mean\").reset_index()\n",
    "\n",
    "fig, ax = plt.subplots(figsize=(12,20))\n",
    "ax.scatter(grouped_df.reordered.values, grouped_df.department_id.values)\n",
    "for i, txt in enumerate(grouped_df.aisle.values):\n",
    "    ax.annotate(txt, (grouped_df.reordered.values[i], grouped_df.department_id.values[i]), rotation=45, ha='center', va='center', color='green')\n",
    "plt.xlabel('Reorder Ratio')\n",
    "plt.ylabel('department_id')\n",
    "plt.title(\"Reorder ratio of different aisles\", fontsize=15)\n",
    "plt.show()"
   ]
  },
  {
   "cell_type": "markdown",
   "metadata": {
    "_cell_guid": "c529f57f-3bd0-6b42-b8b1-d306ba1671ee"
   },
   "source": [
    "**Add to Cart - Reorder ratio:**\n",
    "\n",
    "Let us now explore the relationship between how order of adding the product to the cart affects the reorder ratio."
   ]
  },
  {
   "cell_type": "code",
   "execution_count": null,
   "metadata": {
    "_cell_guid": "7ff1b0bb-1571-3a4d-ce2a-37ee8d2de0f4"
   },
   "outputs": [],
   "source": [
    "order_products_prior_df[\"add_to_cart_order_mod\"] = order_products_prior_df[\"add_to_cart_order\"].copy()\n",
    "order_products_prior_df[\"add_to_cart_order_mod\"].ix[order_products_prior_df[\"add_to_cart_order_mod\"]>70] = 70\n",
    "grouped_df = order_products_prior_df.groupby([\"add_to_cart_order_mod\"])[\"reordered\"].aggregate(\"mean\").reset_index()\n",
    "\n",
    "plt.figure(figsize=(12,8))\n",
    "sns.pointplot(grouped_df['add_to_cart_order_mod'].values, grouped_df['reordered'].values, alpha=0.8, color=color[2])\n",
    "plt.ylabel('Reorder ratio', fontsize=12)\n",
    "plt.xlabel('Add to cart order', fontsize=12)\n",
    "plt.title(\"Add to cart order - Reorder ratio\", fontsize=15)\n",
    "plt.xticks(rotation='vertical')\n",
    "plt.show()"
   ]
  },
  {
   "cell_type": "markdown",
   "metadata": {
    "_cell_guid": "7be627bf-2847-13c4-fbbe-f7f5f43f6068"
   },
   "source": [
    "**Looks like the products that are added to the cart initially are more likely to be reordered again compared to the ones added later.** This makes sense to me as well since we tend to first order all the products we used to buy frequently and then look out for the new products available. \n",
    "\n",
    "**Reorder ratio by Time based variables:**"
   ]
  },
  {
   "cell_type": "code",
   "execution_count": null,
   "metadata": {
    "_cell_guid": "f40cb0e9-7aad-e556-8c40-1ccf387c7a34"
   },
   "outputs": [],
   "source": [
    "order_products_train_df = pd.merge(order_products_train_df, orders_df, on='order_id', how='left')\n",
    "grouped_df = order_products_train_df.groupby([\"order_dow\"])[\"reordered\"].aggregate(\"mean\").reset_index()\n",
    "\n",
    "plt.figure(figsize=(12,8))\n",
    "sns.barplot(grouped_df['order_dow'].values, grouped_df['reordered'].values, alpha=0.8, color=color[3])\n",
    "plt.ylabel('Reorder ratio', fontsize=12)\n",
    "plt.xlabel('Day of week', fontsize=12)\n",
    "plt.title(\"Reorder ratio across day of week\", fontsize=15)\n",
    "plt.xticks(rotation='vertical')\n",
    "plt.ylim(0.5, 0.7)\n",
    "plt.show()"
   ]
  },
  {
   "cell_type": "code",
   "execution_count": null,
   "metadata": {
    "_cell_guid": "6dfdc0e5-3259-e83b-5015-33a8d35e9968"
   },
   "outputs": [],
   "source": [
    "grouped_df = order_products_train_df.groupby([\"order_hour_of_day\"])[\"reordered\"].aggregate(\"mean\").reset_index()\n",
    "\n",
    "plt.figure(figsize=(12,8))\n",
    "sns.barplot(grouped_df['order_hour_of_day'].values, grouped_df['reordered'].values, alpha=0.8, color=color[4])\n",
    "plt.ylabel('Reorder ratio', fontsize=12)\n",
    "plt.xlabel('Hour of day', fontsize=12)\n",
    "plt.title(\"Reorder ratio across hour of day\", fontsize=15)\n",
    "plt.xticks(rotation='vertical')\n",
    "plt.ylim(0.5, 0.7)\n",
    "plt.show()"
   ]
  },
  {
   "cell_type": "code",
   "execution_count": null,
   "metadata": {
    "_cell_guid": "683ac606-fd17-fcd6-1b77-764c34b15fd0"
   },
   "outputs": [],
   "source": [
    "\n",
    "grouped_df = order_products_train_df.groupby([\"order_dow\", \"order_hour_of_day\"])[\"reordered\"].aggregate(\"mean\").reset_index()\n",
    "grouped_df = grouped_df.pivot('order_dow', 'order_hour_of_day', 'reordered')\n",
    "\n",
    "plt.figure(figsize=(12,6))\n",
    "sns.heatmap(grouped_df)\n",
    "plt.title(\"Reorder ratio of Day of week Vs Hour of day\")\n",
    "plt.show()"
   ]
  },
  {
   "cell_type": "markdown",
   "metadata": {
    "_cell_guid": "773fa291-3eb3-706a-2c75-25fd3d7906ea"
   },
   "source": [
    "Looks like reorder ratios are quite high during the early mornings compared to later half of the day."
   ]
  },
  {
   "cell_type": "markdown",
   "metadata": {
    "_cell_guid": "2e6b9c1b-86e1-1835-e257-c6483bb5ae12"
   },
   "source": [
    "**Hope it helped. Please leave your comments / suggestions.**"
   ]
  }
 ],
 "metadata": {
  "_change_revision": 0,
  "_is_fork": false,
  "kernelspec": {
   "display_name": "Python 3",
   "language": "python",
   "name": "python3"
  },
  "language_info": {
   "codemirror_mode": {
    "name": "ipython",
    "version": 3
   },
   "file_extension": ".py",
   "mimetype": "text/x-python",
   "name": "python",
   "nbconvert_exporter": "python",
   "pygments_lexer": "ipython3",
   "version": "3.6.4"
  }
 },
 "nbformat": 4,
 "nbformat_minor": 1
}
