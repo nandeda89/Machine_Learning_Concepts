{
 "cells": [
  {
   "cell_type": "markdown",
   "metadata": {},
   "source": [
    "### References\n",
    "\n",
    "- Mining Massive Datasets\n",
    "- https://lagunita.stanford.edu/asset-v1:ComputerScience+MMDS+SelfPaced+type@asset+block@MapReduce2_TheMapReduceComputationalModel.pdf"
   ]
  },
  {
   "cell_type": "markdown",
   "metadata": {},
   "source": [
    "### Exercise 4\n",
    "\n",
    "Suppose our input data to a map-reduce operation consists of integer values (the keys are not important). The map function takes an integer i and produces the list of pairs (p,i) such that p is a prime divisor of i. For example, map(12) = [(2,12), (3,12)].\n",
    "The reduce function is addition. That is, reduce(p, [i1, i2, ...,ik]) is (p,i1+i2+...+ik).\n",
    "\n",
    "Compute the output, if the input is the set of integers 15, 21, 24, 30, 49. Then, identify, in the list below, one of the pairs in the output.\n",
    "\n",
    " - (3,90)\n",
    " - (3,75)\n",
    " - (5,30)\n",
    " - (2,75)"
   ]
  },
  {
   "cell_type": "code",
   "execution_count": 1,
   "metadata": {},
   "outputs": [
    {
     "name": "stdout",
     "output_type": "stream",
     "text": [
      "3,90: True\n",
      "3,75: False\n",
      "5,30: False\n",
      "7,70: True\n"
     ]
    }
   ],
   "source": [
    "from math import ceil, sqrt\n",
    "\n",
    "# Get the prime divisors of a number.\n",
    "# This function come from http://codereview.stackexchange.com/questions/19509/functional-prime-factor-generator\n",
    "def factor(n):\n",
    "    if n <= 1:\n",
    "        return []\n",
    "    \n",
    "    prime = next((x for x in range(2, ceil(sqrt(n))+1) if n%x == 0), n)\n",
    "#     print(n, prime)\n",
    "    result = [prime] + factor(n//prime)\n",
    "#     print(result)\n",
    "    # This algorithm return duplicated values. Let's return an array of unique values\n",
    "    result = list(set(result))\n",
    "    return result\n",
    "\n",
    "# Set the list of integer to process\n",
    "integers = [15, 21, 24, 30, 49]\n",
    "\n",
    "# Store pairs\n",
    "pairs = []\n",
    "\n",
    "# Map function creating every pairs\n",
    "def map(n):\n",
    "    factors = factor(n)\n",
    "    map_keys = []\n",
    "    \n",
    "    for num in factors:\n",
    "        map_keys.append((num, n))\n",
    "        \n",
    "    return map_keys\n",
    "\n",
    "# Reduce function summing the values of every keys\n",
    "def reduce(pairs):\n",
    "    result = dict()\n",
    "    last_key = None\n",
    "    \n",
    "    for pair in pairs:\n",
    "        \n",
    "        key = pair[0]\n",
    "        if key == last_key:\n",
    "            result[key] += pair[1]\n",
    "            \n",
    "        else:\n",
    "            result[key] = pair[1]\n",
    "        last_key = key\n",
    "        \n",
    "    return result\n",
    "\n",
    "# Create pairs by calling map function for every integers\n",
    "for integer in integers:\n",
    "    tuples = map(integer)\n",
    "    for single_tuple in tuples:\n",
    "        pairs.append(single_tuple)\n",
    "\n",
    "# Sort pairs by key\n",
    "pairs = sorted(pairs, key=lambda key: key[0])\n",
    "\n",
    "# Reduce pairs to get the results\n",
    "reduced_pairs = reduce(pairs)\n",
    "\n",
    "# Print results\n",
    "print(\"3,90: {0}\".format(reduced_pairs[3] == 90))\n",
    "print(\"3,75: {0}\".format(reduced_pairs[3] == 75))\n",
    "print(\"5,30: {0}\".format(reduced_pairs[5] == 30))\n",
    "print(\"7,70: {0}\".format(reduced_pairs[7] == 70))\n"
   ]
  },
  {
   "cell_type": "code",
   "execution_count": null,
   "metadata": {},
   "outputs": [],
   "source": []
  }
 ],
 "metadata": {
  "kernelspec": {
   "display_name": "Python [default]",
   "language": "python",
   "name": "python3"
  },
  "language_info": {
   "codemirror_mode": {
    "name": "ipython",
    "version": 3
   },
   "file_extension": ".py",
   "mimetype": "text/x-python",
   "name": "python",
   "nbconvert_exporter": "python",
   "pygments_lexer": "ipython3",
   "version": "3.6.5"
  },
  "latex_envs": {
   "LaTeX_envs_menu_present": true,
   "autoclose": false,
   "autocomplete": true,
   "bibliofile": "biblio.bib",
   "cite_by": "apalike",
   "current_citInitial": 1,
   "eqLabelWithNumbers": true,
   "eqNumInitial": 1,
   "hotkeys": {
    "equation": "Ctrl-E",
    "itemize": "Ctrl-I"
   },
   "labels_anchors": false,
   "latex_user_defs": false,
   "report_style_numbering": false,
   "user_envs_cfg": false
  }
 },
 "nbformat": 4,
 "nbformat_minor": 1
}
