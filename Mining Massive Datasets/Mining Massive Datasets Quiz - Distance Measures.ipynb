{
 "cells": [
  {
   "cell_type": "code",
   "execution_count": 14,
   "metadata": {},
   "outputs": [
    {
     "data": {
      "text/plain": [
       "array([[1.        , 0.94962912, 0.01740183],\n",
       "       [0.94962912, 1.        , 0.        ],\n",
       "       [0.01740183, 0.        , 1.        ]])"
      ]
     },
     "execution_count": 14,
     "metadata": {},
     "output_type": "execute_result"
    }
   ],
   "source": [
    "#### Q1 - Cosine similarity\n",
    "\n",
    "from sklearn.metrics.pairwise import cosine_similarity\n",
    "from sklearn.metrics import jaccard_similarity_score\n",
    "\n",
    "import pandas as pd\n",
    "\n",
    "X = [[1, 0.25, 0, 0, 0.5, 0], [0.75, 0, 0, 0.2, 0.4, 0] , [0, 0.1, 0.75, 0, 0, 1]]\n",
    "cosine_similarity(X)"
   ]
  },
  {
   "cell_type": "code",
   "execution_count": 33,
   "metadata": {},
   "outputs": [],
   "source": [
    "import distance\n",
    "items = [[1,1,1,1,0,0,0,0,0,0], [0,1,0,0,1,0,0,1,0,1], [0,0,0,0,0,1,1,1,1,0], [0,1,1,1,1,1,1,1,1,1], [1,0,1,1,1,1,1,1,1,1]]\n",
    "\n",
    "items_pairs = [(items[i],items[j]) for i in range(len(items)) for j in range(i+1, len(items))]"
   ]
  },
  {
   "cell_type": "code",
   "execution_count": 57,
   "metadata": {},
   "outputs": [
    {
     "name": "stdout",
     "output_type": "stream",
     "text": [
      "6\n",
      "8\n",
      "7\n",
      "7\n",
      "6\n",
      "5\n",
      "7\n",
      "5\n",
      "5\n",
      "2\n"
     ]
    }
   ],
   "source": [
    "from scipy.spatial import distance\n",
    "\n",
    "for item in items_pairs:\n",
    "#     print(item, distance.jaccard(item[0], item[1]))\n",
    "    print(distance.cityblock(item[0], item[1]))\n",
    "    "
   ]
  },
  {
   "cell_type": "code",
   "execution_count": 48,
   "metadata": {},
   "outputs": [
    {
     "data": {
      "text/plain": [
       "(0.8571428571428571, 0.9, 0.6666666666666666)"
      ]
     },
     "execution_count": 48,
     "metadata": {},
     "output_type": "execute_result"
    }
   ],
   "source": [
    "6/7, 9/10, 2/3"
   ]
  },
  {
   "cell_type": "code",
   "execution_count": 67,
   "metadata": {},
   "outputs": [
    {
     "name": "stdout",
     "output_type": "stream",
     "text": [
      "1\n"
     ]
    }
   ],
   "source": [
    "def edit_distance(s1, s2):\n",
    "    m=len(s1)+1\n",
    "    n=len(s2)+1\n",
    "\n",
    "    tbl = {}\n",
    "    for i in range(m): tbl[i,0]=i\n",
    "    for j in range(n): tbl[0,j]=j\n",
    "    for i in range(1, m):\n",
    "        for j in range(1, n):\n",
    "            cost = 0 if s1[i-1] == s2[j-1] else 1\n",
    "            tbl[i,j] = min(tbl[i, j-1]+1, tbl[i-1, j]+1, tbl[i-1, j-1]+cost)\n",
    "\n",
    "    return tbl[i,j]\n",
    "\n",
    "print(edit_distance(\"Helloworld\", \"Halloworld\"))"
   ]
  },
  {
   "cell_type": "code",
   "execution_count": 68,
   "metadata": {},
   "outputs": [],
   "source": [
    "def MED_character(str1,str2):\n",
    "    cost=0\n",
    "    len1=len(str1)\n",
    "    len2=len(str2)\n",
    "\n",
    "    #output the length of other string in case the length of any of the string is zero\n",
    "    if len1==0:\n",
    "        return len2\n",
    "    if len2==0:\n",
    "        return len1\n",
    "\n",
    "    accumulator = [[0 for x in range(len2)] for y in range(len1)] #initializing a zero matrix\n",
    "\n",
    "    # initializing the base cases\n",
    "    for i in range(0,len1):\n",
    "        accumulator[i][0] = i;\n",
    "    for i in range(0,len2):\n",
    "        accumulator[0][i] = i;\n",
    "\n",
    "    # we take the accumulator and iterate through it row by row. \n",
    "    for i in range(0,len1):\n",
    "        char1=str1[i]\n",
    "        for j in range(0,len2):\n",
    "            char2=str2[j]\n",
    "            cost1=0\n",
    "            if char1!=char2:\n",
    "                cost1=2 #cost for substitution\n",
    "            accumulator[i][j]=min(accumulator[i-1][j]+1, accumulator[i][j-1]+1, accumulator[i-1][j-1] + cost1 )\n",
    "\n",
    "    cost=accumulator[len1-1][len2-1]\n",
    "    return cost"
   ]
  },
  {
   "cell_type": "code",
   "execution_count": 73,
   "metadata": {},
   "outputs": [],
   "source": [
    "def editDistance(str1, str2, m , n): \n",
    "  \n",
    "    # If first string is empty, the only option is to \n",
    "    # insert all characters of second string into first \n",
    "    if m==0: \n",
    "         return n \n",
    "  \n",
    "    # If second string is empty, the only option is to \n",
    "    # remove all characters of first string \n",
    "    if n==0: \n",
    "        return m \n",
    "  \n",
    "    # If last characters of two strings are same, nothing \n",
    "    # much to do. Ignore last characters and get count for \n",
    "    # remaining strings. \n",
    "    if str1[m-1]==str2[n-1]: \n",
    "        return editDistance(str1,str2,m-1,n-1) \n",
    "  \n",
    "    # If last characters are not same, consider all three \n",
    "    # operations on last character of first string, recursively \n",
    "    # compute minimum cost for all three operations and take \n",
    "    # minimum of three values. \n",
    "    return 1 + min(editDistance(str1, str2, m, n-1),    # Insert \n",
    "                   editDistance(str1, str2, m-1, n),    # Remove \n",
    "                   editDistance(str1, str2, m-1, n-1)    # Replace \n",
    "                   ) "
   ]
  },
  {
   "cell_type": "code",
   "execution_count": 74,
   "metadata": {},
   "outputs": [],
   "source": [
    "items = [\"he\", \"she\", \"his\", \"hers\"]\n",
    "items_pairs = [(items[i],items[j]) for i in range(len(items)) for j in range(i+1, len(items))]"
   ]
  },
  {
   "cell_type": "code",
   "execution_count": 78,
   "metadata": {},
   "outputs": [
    {
     "name": "stdout",
     "output_type": "stream",
     "text": [
      "('he', 'she') 1\n",
      "('he', 'his') 2\n",
      "('he', 'hers') 2\n",
      "('she', 'his') 3\n",
      "('she', 'hers') 3\n",
      "('his', 'hers') 2\n"
     ]
    }
   ],
   "source": [
    "for item in items_pairs:\n",
    "#     print(item, edit_distance(item[0], item[1]))\n",
    "#     print(MED_character(item[0], item[1]))\n",
    "    print(item, editDistance(item[0], item[1], len(item[0]), len(item[1])))"
   ]
  },
  {
   "cell_type": "code",
   "execution_count": null,
   "metadata": {},
   "outputs": [],
   "source": [
    "1, 3, 2, 4, 3, 3"
   ]
  }
 ],
 "metadata": {
  "kernelspec": {
   "display_name": "Python [conda env:tensorflowcpu]",
   "language": "python",
   "name": "conda-env-tensorflowcpu-py"
  },
  "language_info": {
   "codemirror_mode": {
    "name": "ipython",
    "version": 3
   },
   "file_extension": ".py",
   "mimetype": "text/x-python",
   "name": "python",
   "nbconvert_exporter": "python",
   "pygments_lexer": "ipython3",
   "version": "3.6.6"
  },
  "latex_envs": {
   "LaTeX_envs_menu_present": true,
   "autoclose": false,
   "autocomplete": true,
   "bibliofile": "biblio.bib",
   "cite_by": "apalike",
   "current_citInitial": 1,
   "eqLabelWithNumbers": true,
   "eqNumInitial": 1,
   "hotkeys": {
    "equation": "Ctrl-E",
    "itemize": "Ctrl-I"
   },
   "labels_anchors": false,
   "latex_user_defs": false,
   "report_style_numbering": false,
   "user_envs_cfg": false
  }
 },
 "nbformat": 4,
 "nbformat_minor": 2
}
