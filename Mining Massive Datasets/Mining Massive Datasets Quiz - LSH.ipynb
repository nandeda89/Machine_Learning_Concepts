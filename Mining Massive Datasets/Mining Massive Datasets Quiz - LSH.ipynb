{
 "cells": [
  {
   "cell_type": "code",
   "execution_count": 1,
   "metadata": {},
   "outputs": [],
   "source": [
    "import pandas as pd\n",
    "import numpy as np"
   ]
  },
  {
   "cell_type": "markdown",
   "metadata": {},
   "source": [
    "<img src=\"./images/2_1.jpg\">"
   ]
  },
  {
   "cell_type": "code",
   "execution_count": 23,
   "metadata": {},
   "outputs": [
    {
     "name": "stdout",
     "output_type": "stream",
     "text": [
      "1 C1 C4\n",
      "1 C2 C5\n",
      "3 C1 C6\n",
      "5 C1 C3\n",
      "5 C4 C7\n"
     ]
    }
   ],
   "source": [
    "data = {\"C1\": [1, 2, 3, 4, 5, 6], \"C2\": [2, 3, 1, 1, 2, 1], \"C3\": [1, 4, 2, 3, 5, 6], \n",
    "        \"C4\": [1, 2, 3, 1, 1, 4], \"C5\": [2, 3, 1, 2, 1, 1], \"C6\": [5, 2, 3, 4, 5, 1], \n",
    "        \"C7\": [4, 2, 2, 4, 1, 4]}\n",
    "\n",
    "df = pd.DataFrame(data)\n",
    "\n",
    "pairs_df = pd.DataFrame(columns=[\"band\", \"col1\", \"col2\"])\n",
    "\n",
    "# Iterate across the number of desired bands (3).\n",
    "for band in np.arange(0, len(df), len(df)/3):\n",
    "    # Compare two rows.\n",
    "    row1 = df.loc[int(band),]\n",
    "    row2 = df.loc[int(band) + 1,]\n",
    "    #print(row2.T)\n",
    "    # Iterate across each column, looking for matches.\n",
    "    for col1 in np.arange(0, len(df.columns) - 1):\n",
    "            for col2 in np.arange(col1 + 1, len(df.columns)):\n",
    "                # If the value in row1, column1 matches row1, column2 AND the value in row2, column1 matches row2 column2 then we have a pair!\n",
    "                if ((row1[col1] == row1[col2]) & (row2[col1] == row2[col2])):\n",
    "                    part1 = 'C' + str(col1 + 1)\n",
    "                    part2 = 'C' + str(col2 + 1)\n",
    "                    print(int(band + 1), part1, part2)\n"
   ]
  },
  {
   "cell_type": "code",
   "execution_count": null,
   "metadata": {},
   "outputs": [],
   "source": []
  },
  {
   "cell_type": "code",
   "execution_count": null,
   "metadata": {},
   "outputs": [],
   "source": []
  },
  {
   "cell_type": "code",
   "execution_count": null,
   "metadata": {},
   "outputs": [],
   "source": []
  }
 ],
 "metadata": {
  "kernelspec": {
   "display_name": "Python [conda env:tensorflowcpu]",
   "language": "python",
   "name": "conda-env-tensorflowcpu-py"
  },
  "language_info": {
   "codemirror_mode": {
    "name": "ipython",
    "version": 3
   },
   "file_extension": ".py",
   "mimetype": "text/x-python",
   "name": "python",
   "nbconvert_exporter": "python",
   "pygments_lexer": "ipython3",
   "version": "3.6.6"
  },
  "latex_envs": {
   "LaTeX_envs_menu_present": true,
   "autoclose": false,
   "autocomplete": true,
   "bibliofile": "biblio.bib",
   "cite_by": "apalike",
   "current_citInitial": 1,
   "eqLabelWithNumbers": true,
   "eqNumInitial": 1,
   "hotkeys": {
    "equation": "Ctrl-E",
    "itemize": "Ctrl-I"
   },
   "labels_anchors": false,
   "latex_user_defs": false,
   "report_style_numbering": false,
   "user_envs_cfg": false
  }
 },
 "nbformat": 4,
 "nbformat_minor": 2
}
