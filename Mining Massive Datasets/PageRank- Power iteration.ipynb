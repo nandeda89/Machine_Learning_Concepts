{
 "cells": [
  {
   "cell_type": "markdown",
   "metadata": {},
   "source": [
    "### References \n",
    "\n",
    "- Mining Massive Datasets\n",
    "- https://lagunita.stanford.edu/asset-v1:ComputerScience+MMDS+SelfPaced+type@asset+block@week1_pagerank_power_iteration_1_.pdf\n"
   ]
  },
  {
   "cell_type": "code",
   "execution_count": 9,
   "metadata": {},
   "outputs": [],
   "source": [
    "import math\n",
    "import numpy as np"
   ]
  },
  {
   "cell_type": "markdown",
   "metadata": {},
   "source": [
    "### Exercise 1\n",
    "\n",
    "Consider three Web pages with the following links:"
   ]
  },
  {
   "cell_type": "code",
   "execution_count": 5,
   "metadata": {},
   "outputs": [
    {
     "data": {
      "text/html": [
       "<img src=\"https://d396qusza40orc.cloudfront.net/mmds/images/otc_pagerank2.gif\"/>"
      ],
      "text/plain": [
       "<IPython.core.display.Image object>"
      ]
     },
     "execution_count": 5,
     "metadata": {},
     "output_type": "execute_result"
    }
   ],
   "source": [
    "from IPython.display import Image\n",
    "Image(url='https://d396qusza40orc.cloudfront.net/mmds/images/otc_pagerank2.gif')"
   ]
  },
  {
   "cell_type": "markdown",
   "metadata": {},
   "source": [
    "Suppose we compute PageRank with a β of 0.7, and we introduce the additional constraint that the sum of the PageRanks of the three pages must be 3, to handle the problem that otherwise any multiple of a solution will also be a solution. Compute the PageRanks a, b, and c of the three pages A, B, and C, respectively. Then, identify from the list below, the true statement.\n",
    "\n",
    " - a + c = 2.595\n",
    " - b + c = 2.5\n",
    " - b + c = 2.735\n",
    " - a + c = 2.035"
   ]
  },
  {
   "cell_type": "code",
   "execution_count": 31,
   "metadata": {},
   "outputs": [
    {
     "name": "stdout",
     "output_type": "stream",
     "text": [
      "Pagerank processed!\n",
      "a + c = 2.595\n",
      "b + c = 2.7\n"
     ]
    }
   ],
   "source": [
    "#### PageRank Algorithm -- Power Iteration\n",
    "\n",
    "# β is probability of following the link\n",
    "β = 0.7\n",
    "\n",
    "# M is the matrix of vectors based on the schma of exercice\n",
    "M = np.matrix([[0, 0, 0], [1/2, 0, 0], [1/2, 1, 1]])\n",
    "\n",
    "# r is the list of node we are applying the M on every iteration - initialization\n",
    "r = np.matrix([1/3, 1/3, 1/3]).T\n",
    "\n",
    "# S represent the change that the user doesn't follow the link but jump to a random link\n",
    "S = np.matrix([(1-β)/3, (1-β)/3, (1-β)/3]).T\n",
    "\n",
    "# 𝛆 is the choosen Pagerank precision\n",
    "𝛆 = 1/10000\n",
    "\n",
    "def power_iteration(r):\n",
    "    r_copy = r\n",
    "    # Calculate new values for r\n",
    "    r = β * M * r\n",
    "    # Add the leaking rank due to the probably that user may not follow the link\n",
    "    r = r + S\n",
    "    \n",
    "    # Pagerank is processed when no value changed more than 𝛆 on this iteration\n",
    "    matrix_difference = r_copy - r\n",
    "    is_processed = math.fabs(matrix_difference.max()) < ϵ\n",
    "    return (r, is_processed)\n",
    "\n",
    "# Execute power interation until the Pagerank is processed\n",
    "while True:\n",
    "    r, is_processed = power_iteration(r)\n",
    "    \n",
    "    if is_processed:\n",
    "        print(\"Pagerank processed!\")\n",
    "        break\n",
    "\n",
    "# Multiply the Pagerank by 3 because \"the sum of the PageRanks of the three pages must be 3\"        \n",
    "r = 3 * r\n",
    "\n",
    "# Print result to solve exercice\n",
    "a = r.flat[0]\n",
    "b = r.flat[1]\n",
    "c = r.flat[2]\n",
    "print(\"a + c = {0}\".format(round(a + c, 3)))\n",
    "print(\"b + c = {0}\".format(round(b + c, 3)))"
   ]
  },
  {
   "cell_type": "markdown",
   "metadata": {},
   "source": [
    "### Exercise 2\n",
    "\n",
    "Consider three Web pages with the following links:"
   ]
  },
  {
   "cell_type": "code",
   "execution_count": 32,
   "metadata": {},
   "outputs": [
    {
     "data": {
      "text/html": [
       "<img src=\"https://d396qusza40orc.cloudfront.net/mmds/images/otc_pagerank3.gif\"/>"
      ],
      "text/plain": [
       "<IPython.core.display.Image object>"
      ]
     },
     "execution_count": 32,
     "metadata": {},
     "output_type": "execute_result"
    }
   ],
   "source": [
    "Image(url='https://d396qusza40orc.cloudfront.net/mmds/images/otc_pagerank3.gif')"
   ]
  },
  {
   "cell_type": "markdown",
   "metadata": {},
   "source": [
    "\n",
    "Suppose we compute PageRank with β=0.85. Write the equations for the PageRanks a, b, and c of the three pages A, B, and C, respectively. Then, identify in the list below, one of the equations.\n",
    "\n",
    " - a = c + .15b\n",
    " - .85a = c + .15b\n",
    " - 85b = .575a + .15c\n",
    " - .95b = .475a + .05c"
   ]
  },
  {
   "cell_type": "code",
   "execution_count": 40,
   "metadata": {},
   "outputs": [
    {
     "name": "stdout",
     "output_type": "stream",
     "text": [
      "Pagerank processed!\n",
      "\n",
      "ranks:\n",
      "a:  1.1633217509805982\n",
      "b:  0.6445350125716385\n",
      "c:  1.1921432364477627\n",
      "\n",
      ".95a = .9c + .05b: True\n",
      ".85b = .575a + .15c: False\n",
      "a = .9c + .05b: False\n",
      ".85a = c + .15b: False\n"
     ]
    }
   ],
   "source": [
    "#### PageRank Algorithm -- Power Iteration\n",
    "\n",
    "# β is probability of following the link\n",
    "β = 0.85\n",
    "\n",
    "# M is the matrix of vectors based on the schma of exercice\n",
    "M = np.matrix([[0, 0, 1], [1/2, 0, 0], [1/2, 1, 0]])\n",
    "\n",
    "# r is the list of node we are applying the M on every iteration - initialization\n",
    "r = np.matrix([1/3, 1/3, 1/3]).T\n",
    "\n",
    "# S represent the change that the user doesn't follow the link but jump to a random link\n",
    "S = np.matrix([(1-β)/3, (1-β)/3, (1-β)/3]).T\n",
    "\n",
    "# 𝛆 is the choosen Pagerank precision\n",
    "𝛆 = 1/10000\n",
    "\n",
    "def power_iteration(r):\n",
    "    r_copy = r\n",
    "    # Calculate new values for r\n",
    "    r = β * M * r\n",
    "    # Add the leaking rank due to the probably that user may not follow the link\n",
    "    r = r + S\n",
    "    \n",
    "    # Pagerank is processed when no value changed more than 𝛆 on this iteration\n",
    "    matrix_difference = r_copy - r\n",
    "    is_processed = math.fabs(matrix_difference.max()) < ϵ\n",
    "    return (r, is_processed)\n",
    "\n",
    "# Execute power interation until the Pagerank is processed\n",
    "while True:\n",
    "    r, is_processed = power_iteration(r)\n",
    "    \n",
    "    if is_processed:\n",
    "        print(\"Pagerank processed!\")\n",
    "        break\n",
    "\n",
    "# Multiply the Pagerank by 3 because \"the sum of the PageRanks of the three pages must be 3\"        \n",
    "r = 3 * r\n",
    "\n",
    "# Print result to solve exercice\n",
    "a = r.flat[0]\n",
    "b = r.flat[1]\n",
    "c = r.flat[2]\n",
    "\n",
    "print(\"\\nranks:\")\n",
    "print(\"a: \", a)\n",
    "print(\"b: \", b)\n",
    "print(\"c: \", c)\n",
    "print()\n",
    "# Print result to solve exercice\n",
    "print(\".95a = .9c + .05b: {0}\".format(round(a * 0.95, 3) ==  round(.9 * c + 0.05 * b, 3)))\n",
    "print(\".85b = .575a + .15c: {0}\".format(round(0.85 * b, 3) == round(0.575 * a + 0.15 * c,3)))\n",
    "print(\"a = .9c + .05b: {0}\".format(round(a, 3) == round(0.9 * c + 0.05 * b, 3)))\n",
    "print(\".85a = c + .15b: {0}\".format(round(0.85 * a, 3) == round(c + 0.15 * b, 3)))\n"
   ]
  },
  {
   "cell_type": "markdown",
   "metadata": {},
   "source": [
    "### Exercise 3\n",
    "\n",
    "Consider three Web pages with the following links:\n"
   ]
  },
  {
   "cell_type": "code",
   "execution_count": 41,
   "metadata": {},
   "outputs": [
    {
     "data": {
      "text/html": [
       "<img src=\"https://d396qusza40orc.cloudfront.net/mmds/images/otc_pagerank3.gif\"/>"
      ],
      "text/plain": [
       "<IPython.core.display.Image object>"
      ]
     },
     "execution_count": 41,
     "metadata": {},
     "output_type": "execute_result"
    }
   ],
   "source": [
    "Image(url='https://d396qusza40orc.cloudfront.net/mmds/images/otc_pagerank3.gif')"
   ]
  },
  {
   "cell_type": "markdown",
   "metadata": {},
   "source": [
    "\n",
    "Assuming no \"taxation,\" compute the PageRanks a, b, and c of the three pages A, B, and C, using iteration, starting with the \"0th\" iteration where all three pages have rank a = b = c = 1. Compute as far as the 5th iteration, and also determine what the PageRanks are in the limit. Then, identify the true statement from the list below.\n",
    "\n",
    " - In the limit, a = 5/4\n",
    " - After iteration 5, a = 13/8\n",
    " - In the limit, b = 3/5\n",
    " - After iteration 5, b = 1/2"
   ]
  },
  {
   "cell_type": "code",
   "execution_count": 42,
   "metadata": {},
   "outputs": [
    {
     "name": "stdout",
     "output_type": "stream",
     "text": [
      "Pagerank at 5th iteration: a=1.25, b=0.625, c=1.125\n",
      "Pagerank at limit: a=1.2, b=0.6, c=1.2 \n",
      "\n",
      "In the limit, a = 5/4: False\n",
      "After iteration 5, a = 13/8: False\n",
      "In the limit, b = 3/5: True\n",
      "After iteration 5, b = 1/2: False\n"
     ]
    }
   ],
   "source": [
    "# β is probability of following the link\n",
    "β = 1\n",
    "\n",
    "# M is the matrix of vectors based on the schma of exercice\n",
    "M = np.matrix([[0, 0, 1], [1/2, 0, 0], [1/2, 1, 0]])\n",
    "\n",
    "# r is the list of node we are applying the M on every iteration - initialization\n",
    "r = np.matrix([1/3, 1/3, 1/3]).T\n",
    "\n",
    "# S represent the change that the user doesn't follow the link but jump to a random link\n",
    "S = np.matrix([(1-β)/3, (1-β)/3, (1-β)/3]).T\n",
    "\n",
    "# 𝛆 is the choosen Pagerank precision\n",
    "𝛆 = 1/10000\n",
    "\n",
    "def power_iteration(r):\n",
    "    r_copy = r\n",
    "    # Calculate new values for r\n",
    "    r = β * M * r\n",
    "    # Add the leaking rank due to the probably that user may not follow the link\n",
    "    r = r + S\n",
    "    \n",
    "    # Pagerank is processed when no value changed more than 𝛆 on this iteration\n",
    "    matrix_difference = r_copy - r\n",
    "    is_processed = math.fabs(matrix_difference.max()) < ϵ\n",
    "    return (r, is_processed)\n",
    "\n",
    "iteration = 1\n",
    "# Execute power interation until the Pagerank is processed\n",
    "while True:\n",
    "    r, is_processed = power_iteration(r)\n",
    "    r_copy = r * 3\n",
    "    if iteration == 5:\n",
    "        a_5 = round(r_copy.flat[0], 3)\n",
    "        b_5 = round(r_copy.flat[1], 3)\n",
    "        c_5 = round(r_copy.flat[2], 3)\n",
    "    if is_processed:\n",
    "        a = round(r_copy.flat[0], 3)\n",
    "        b = round(r_copy.flat[1], 3)\n",
    "        c = round(r_copy.flat[2], 3)\n",
    "        break\n",
    "    iteration = iteration + 1\n",
    "\n",
    "print(\"Pagerank at 5th iteration: a={0}, b={1}, c={2}\".format(a_5, b_5, c_5))\n",
    "print(\"Pagerank at limit: a={0}, b={1}, c={2} \\n\".format(a, b, c))\n",
    "\n",
    "print(\"In the limit, a = 5/4: {0}\".format(a == 5/4))\n",
    "print(\"After iteration 5, a = 13/8: {0}\".format(a_5 == 13/8))\n",
    "print(\"In the limit, b = 3/5: {0}\".format(b == 3/5))\n",
    "print(\"After iteration 5, b = 1/2: {0}\".format(b_5 == 1/2))"
   ]
  },
  {
   "cell_type": "code",
   "execution_count": null,
   "metadata": {},
   "outputs": [],
   "source": []
  }
 ],
 "metadata": {
  "kernelspec": {
   "display_name": "Python [default]",
   "language": "python",
   "name": "python3"
  },
  "language_info": {
   "codemirror_mode": {
    "name": "ipython",
    "version": 3
   },
   "file_extension": ".py",
   "mimetype": "text/x-python",
   "name": "python",
   "nbconvert_exporter": "python",
   "pygments_lexer": "ipython3",
   "version": "3.6.5"
  },
  "latex_envs": {
   "LaTeX_envs_menu_present": true,
   "autoclose": false,
   "autocomplete": true,
   "bibliofile": "biblio.bib",
   "cite_by": "apalike",
   "current_citInitial": 1,
   "eqLabelWithNumbers": true,
   "eqNumInitial": 1,
   "hotkeys": {
    "equation": "Ctrl-E",
    "itemize": "Ctrl-I"
   },
   "labels_anchors": false,
   "latex_user_defs": false,
   "report_style_numbering": false,
   "user_envs_cfg": false
  }
 },
 "nbformat": 4,
 "nbformat_minor": 1
}
