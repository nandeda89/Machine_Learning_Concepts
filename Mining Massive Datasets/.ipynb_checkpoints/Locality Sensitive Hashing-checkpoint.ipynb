{
 "cells": [
  {
   "cell_type": "code",
   "execution_count": 8,
   "metadata": {},
   "outputs": [],
   "source": [
    "from LocalitySensitiveHashing import *\n"
   ]
  },
  {
   "cell_type": "code",
   "execution_count": 6,
   "metadata": {},
   "outputs": [
    {
     "name": "stdout",
     "output_type": "stream",
     "text": [
      "\n",
      "Showing the mean vector used for each cluster:\n",
      "[[1 0 0 0 0 0 0 0 0 0]\n",
      " [0 1 0 0 0 0 0 0 0 0]\n",
      " [0 0 1 0 0 0 0 0 0 0]\n",
      " [0 0 0 1 0 0 0 0 0 0]\n",
      " [0 0 0 0 1 0 0 0 0 0]\n",
      " [0 0 0 0 0 1 0 0 0 0]\n",
      " [0 0 0 0 0 0 1 0 0 0]\n",
      " [0 0 0 0 0 0 0 1 0 0]\n",
      " [0 0 0 0 0 0 0 0 1 0]\n",
      " [0 0 0 0 0 0 0 0 0 1]]\n",
      "Writing data to the file data_for_lsh.csv\n"
     ]
    }
   ],
   "source": [
    "import numpy as np\n",
    "\n",
    "dim = 10\n",
    "covar = np.diag([0.01] * dim)\n",
    "output_file = 'data_for_lsh.csv'\n",
    "data_gen = DataGenerator(\n",
    "                          output_csv_file   = output_file,\n",
    "                          how_many_similarity_groups = 10,\n",
    "                          dim = dim,\n",
    "                          number_of_samples_per_group = 8,\n",
    "                          covariance = covar,\n",
    "                        )\n",
    "\n",
    "data_gen.gen_data_and_write_to_csv()"
   ]
  },
  {
   "cell_type": "code",
   "execution_count": 9,
   "metadata": {},
   "outputs": [
    {
     "name": "stdout",
     "output_type": "stream",
     "text": [
      ".\n"
     ]
    }
   ],
   "source": [
    "datafile = \"data_for_lsh.csv\"\n",
    "lsh = LocalitySensitiveHashing(datafile = datafile, dim = 10, r = 50, b = 100, expected_num_of_clusters = 10)\n",
    "lsh.get_data_from_csv()\n",
    "lsh.initialize_hash_store()\n",
    "lsh.hash_all_data()\n",
    "similarity_groups = lsh.lsh_basic_for_neighborhood_clusters()\n",
    "coalesced_similarity_groups = lsh.merge_similarity_groups_with_coalescence( similarity_groups )\n",
    "merged_similarity_groups = lsh.merge_similarity_groups_with_l2norm_sample_based( coalesced_similarity_groups )\n",
    "lsh.write_clusters_to_file( merged_similarity_groups, \"clusters.txt\" )\n"
   ]
  },
  {
   "cell_type": "code",
   "execution_count": null,
   "metadata": {},
   "outputs": [],
   "source": []
  }
 ],
 "metadata": {
  "kernelspec": {
   "display_name": "Python [conda env:tensorflowcpu]",
   "language": "python",
   "name": "conda-env-tensorflowcpu-py"
  },
  "language_info": {
   "codemirror_mode": {
    "name": "ipython",
    "version": 3
   },
   "file_extension": ".py",
   "mimetype": "text/x-python",
   "name": "python",
   "nbconvert_exporter": "python",
   "pygments_lexer": "ipython3",
   "version": "3.6.6"
  },
  "latex_envs": {
   "LaTeX_envs_menu_present": true,
   "autoclose": false,
   "autocomplete": true,
   "bibliofile": "biblio.bib",
   "cite_by": "apalike",
   "current_citInitial": 1,
   "eqLabelWithNumbers": true,
   "eqNumInitial": 1,
   "hotkeys": {
    "equation": "Ctrl-E",
    "itemize": "Ctrl-I"
   },
   "labels_anchors": false,
   "latex_user_defs": false,
   "report_style_numbering": false,
   "user_envs_cfg": false
  }
 },
 "nbformat": 4,
 "nbformat_minor": 2
}
