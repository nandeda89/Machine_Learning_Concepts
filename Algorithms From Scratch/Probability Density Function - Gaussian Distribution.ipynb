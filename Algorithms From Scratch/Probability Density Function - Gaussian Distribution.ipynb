{
 "cells": [
  {
   "cell_type": "markdown",
   "metadata": {},
   "source": [
    "### Univariate Gaussian\n",
    "\n",
    "<img src=\"./images/univariate.jpg\">\n"
   ]
  },
  {
   "cell_type": "code",
   "execution_count": 81,
   "metadata": {},
   "outputs": [],
   "source": [
    "import numpy as np\n",
    "from scipy.stats import norm\n",
    "from scipy import integrate\n",
    "\n",
    "import matplotlib.pyplot as plt"
   ]
  },
  {
   "cell_type": "code",
   "execution_count": 29,
   "metadata": {},
   "outputs": [],
   "source": [
    "#### univariate_guassian_prob_density function\n",
    "\n",
    "def univariate_guassian_prob_density(x, mu, sigma):\n",
    "    \n",
    "    #### First part of the formula\n",
    "    Z = sigma * np.sqrt(2 * np.pi)\n",
    "    \n",
    "    #### Second part of the formula\n",
    "    exp_val = np.exp(-(np.square(x - mu)/(2 * np.square(sigma))))\n",
    "    \n",
    "    #### Final Value\n",
    "    g_x = (1/Z) * exp_val\n",
    "    \n",
    "    return g_x"
   ]
  },
  {
   "cell_type": "markdown",
   "metadata": {},
   "source": [
    "<img src=\"./images/cdf.jpg\">"
   ]
  },
  {
   "cell_type": "code",
   "execution_count": null,
   "metadata": {},
   "outputs": [],
   "source": [
    "#### univariate_guassian_cumulative_dist function\n",
    "\n",
    "def univariate_guassian_cumulative_dist(x, mu, sigma):\n",
    "    \n",
    "    #### First part of the formula\n",
    "    Z = sigma * np.sqrt(2 * np.pi)\n",
    "    \n",
    "    #### Second part of the formula\n",
    "    exp_val = np.exp(-(np.square(x - mu)/(2 * np.square(sigma))))\n",
    "    \n",
    "    #### Final Value\n",
    "    g_x = (1/Z) * exp_val\n",
    "    \n",
    "    return g_x"
   ]
  },
  {
   "cell_type": "code",
   "execution_count": 42,
   "metadata": {},
   "outputs": [
    {
     "data": {
      "image/png": "[encoded data removed]",
      "text/plain": [
       "<Figure size 432x288 with 1 Axes>"
      ]
     },
     "metadata": {},
     "output_type": "display_data"
    }
   ],
   "source": [
    "#### Example 1\n",
    "\n",
    "mean = 0; \n",
    "std = 1; \n",
    "x = np.arange(-6, 6,.1)\n",
    "\n",
    "val = univariate_guassian_prob_density(x, mean, std)\n",
    "plt.plot(x,val)\n",
    "plt.ylabel('gaussian distribution')\n",
    "plt.show()"
   ]
  },
  {
   "cell_type": "code",
   "execution_count": 72,
   "metadata": {},
   "outputs": [
    {
     "data": {
      "image/png": "[encoded data removed]",
      "text/plain": [
       "<Figure size 432x288 with 1 Axes>"
      ]
     },
     "metadata": {},
     "output_type": "display_data"
    }
   ],
   "source": [
    "#### Same example with norm function -- the above function output is same as norm\n",
    "\n",
    "mu = 0\n",
    "sigma = 1\n",
    "\n",
    "x = np.linspace(-6, 6, 1000)\n",
    "dist = norm(mu, sigma)\n",
    "\n",
    "plt.plot(x, dist.pdf(x), c='black',\n",
    "             label=r'$\\mu=%i,\\ \\sigma=%.1f$' % (mu, sigma))\n",
    "\n",
    "plt.show()"
   ]
  },
  {
   "cell_type": "markdown",
   "metadata": {},
   "source": [
    "#### Example 2\n",
    "\n",
    "<img src=\"./images/ex1.jpg\">"
   ]
  },
  {
   "cell_type": "code",
   "execution_count": 76,
   "metadata": {},
   "outputs": [],
   "source": [
    "mu = 24\n",
    "sigma = 3"
   ]
  },
  {
   "cell_type": "code",
   "execution_count": 80,
   "metadata": {},
   "outputs": [
    {
     "name": "stdout",
     "output_type": "stream",
     "text": [
      "0.4950149249061542\n"
     ]
    }
   ],
   "source": [
    "x1 = 22\n",
    "x2 = 26\n",
    "\n",
    "#### probability of an apparel arriving wihtin x1 days\n",
    "z1 = (x1 - mu) / sigma\n",
    "p1 = norm.cdf(z1)\n",
    "\n",
    "#### probability of an apparel arriving wihtin x2 days\n",
    "z2 = (x2 - mu) / sigma\n",
    "p2 = norm.cdf(z2)\n",
    "\n",
    "#### probability of an apparel arriving between x1 and x2 days\n",
    "final_prob = p2 - p1\n",
    "print(final_prob)"
   ]
  },
  {
   "cell_type": "code",
   "execution_count": null,
   "metadata": {},
   "outputs": [],
   "source": []
  },
  {
   "cell_type": "markdown",
   "metadata": {},
   "source": [
    "### Multivariate Gaussian\n",
    "\n",
    "<img src=\"./images/multivariate.jpg\">"
   ]
  },
  {
   "cell_type": "code",
   "execution_count": null,
   "metadata": {},
   "outputs": [],
   "source": []
  }
 ],
 "metadata": {
  "kernelspec": {
   "display_name": "Python [conda env:tensorflowcpu]",
   "language": "python",
   "name": "conda-env-tensorflowcpu-py"
  },
  "language_info": {
   "codemirror_mode": {
    "name": "ipython",
    "version": 3
   },
   "file_extension": ".py",
   "mimetype": "text/x-python",
   "name": "python",
   "nbconvert_exporter": "python",
   "pygments_lexer": "ipython3",
   "version": "3.6.6"
  },
  "latex_envs": {
   "LaTeX_envs_menu_present": true,
   "autoclose": false,
   "autocomplete": true,
   "bibliofile": "biblio.bib",
   "cite_by": "apalike",
   "current_citInitial": 1,
   "eqLabelWithNumbers": true,
   "eqNumInitial": 1,
   "hotkeys": {
    "equation": "Ctrl-E",
    "itemize": "Ctrl-I"
   },
   "labels_anchors": false,
   "latex_user_defs": false,
   "report_style_numbering": false,
   "user_envs_cfg": false
  }
 },
 "nbformat": 4,
 "nbformat_minor": 2
}
