{
 "cells": [
  {
   "cell_type": "markdown",
   "metadata": {},
   "source": [
    "                          *** Implement Incremental/Online Learning using SGDClassifier **\n"
   ]
  },
  {
   "cell_type": "code",
   "execution_count": null,
   "metadata": {
    "collapsed": true
   },
   "outputs": [],
   "source": [
    "import numpy as np\n",
    "from sklearn import linear_model\n",
    "\n",
    "X = np.array([[-1, -1], [-2, -1], [-2, -1], [-2, -1], [-2, -1], [2, 1]])\n",
    "Y = np.array([1, 3, 3, 3, 3, 2])\n",
    "clf = linear_model.SGDClassifier(max_iter=15, tol=None)\n",
    "clf.fit(X, Y)\n"
   ]
  },
  {
   "cell_type": "code",
   "execution_count": null,
   "metadata": {
    "collapsed": true
   },
   "outputs": [],
   "source": [
    "print(clf.predict([[-1, -1], [-2, -1], [2, 1],[4, -5]]))"
   ]
  },
  {
   "cell_type": "code",
   "execution_count": null,
   "metadata": {
    "collapsed": true
   },
   "outputs": [],
   "source": [
    "# Partialy fit Pretrained model\n",
    "\n",
    "X = np.array([[4, 5]])\n",
    "Y = np.array([2])\n",
    "\n",
    "clf.partial_fit(X, Y, classes=None, sample_weight=None)"
   ]
  },
  {
   "cell_type": "code",
   "execution_count": null,
   "metadata": {
    "collapsed": true
   },
   "outputs": [],
   "source": [
    "print(clf.predict([[-1, -1], [-2, -1], [2, 1],[4, 5]]))"
   ]
  },
  {
   "cell_type": "markdown",
   "metadata": {},
   "source": [
    "*** Putting all blocks together ***"
   ]
  },
  {
   "cell_type": "code",
   "execution_count": null,
   "metadata": {
    "collapsed": true
   },
   "outputs": [],
   "source": [
    "# Save pretrained Model --> Load --> Partial Train\n",
    "\n",
    "#Train Model with Initial Data\n",
    "X = np.array([[-1, -1], [-2, -1], [2, 1]])\n",
    "Y = np.array([1, 3, 2])\n",
    "\n",
    "clf = linear_model.SGDClassifier(max_iter=15, tol=None)\n",
    "clf.fit(X, Y)\n",
    "\n",
    "import pickle\n",
    "# now you can save it to a file\n",
    "with open('SGDClassifier_1.pkl', 'wb') as f:\n",
    "    pickle.dump(clf, f)\n",
    "\n",
    "print(clf.predict([[-1, -1], [-2, -1], [2, 1],[-4, -5]]))\n",
    "\n",
    "# Partialy fit Pretrained model\n",
    "X = np.array([[-4, -5]])\n",
    "Y = np.array([2])\n",
    "\n",
    "# Load SGDClassifier_1\n",
    "with open('SGDClassifier_1.pkl', 'rb') as f:\n",
    "    clf1 = pickle.load(f)\n",
    "    \n",
    "clf.partial_fit(X, Y, classes=None, sample_weight=None)\n",
    "print(clf.predict([[-1, -1], [-2, -1], [2, 1],[-4, -5]]))"
   ]
  },
  {
   "cell_type": "markdown",
   "metadata": {},
   "source": [
    "                                            *** Using Iris Dataset ***"
   ]
  },
  {
   "cell_type": "code",
   "execution_count": null,
   "metadata": {
    "collapsed": true
   },
   "outputs": [],
   "source": [
    "from sklearn import datasets\n",
    "from sklearn.model_selection import train_test_split\n",
    "from sklearn.metrics import accuracy_score\n",
    "\n",
    "iris = datasets.load_iris()\n",
    "X = iris.data\n",
    "Y = iris.target"
   ]
  },
  {
   "cell_type": "code",
   "execution_count": null,
   "metadata": {
    "collapsed": true
   },
   "outputs": [],
   "source": [
    "print(type(iris))\n",
    "print(type(X))\n",
    "print(type(Y))"
   ]
  },
  {
   "cell_type": "code",
   "execution_count": null,
   "metadata": {
    "collapsed": true
   },
   "outputs": [],
   "source": [
    "X_train, X_test, y_train, y_test = train_test_split(X, Y, test_size=0.20, random_state=42)\n",
    "print(type(X_train))\n",
    "print(X_train.shape)\n",
    "print(X_test.shape)\n",
    "print(y_train.shape)\n",
    "print(y_test.shape)"
   ]
  },
  {
   "cell_type": "code",
   "execution_count": null,
   "metadata": {
    "collapsed": true
   },
   "outputs": [],
   "source": [
    "X_train_1, X_train_2, y_train_1, y_train_2 = train_test_split(X_train, y_train, test_size=0.50, random_state=42)\n",
    "print(X_train_1.shape)\n",
    "print(X_train_2.shape)\n",
    "print(y_train_1.shape)\n",
    "print(y_train_2.shape)"
   ]
  },
  {
   "cell_type": "code",
   "execution_count": null,
   "metadata": {
    "collapsed": true
   },
   "outputs": [],
   "source": [
    "#Full Model Training\n",
    "\n",
    "clf_full = linear_model.SGDClassifier(max_iter=100, tol=None)\n",
    "clf_full.fit(X_train, y_train)\n",
    "\n",
    "y_pred = clf_full.predict(X_test)\n",
    "accuracy_score(y_test, y_pred)"
   ]
  },
  {
   "cell_type": "code",
   "execution_count": null,
   "metadata": {
    "collapsed": true
   },
   "outputs": [],
   "source": [
    "#Partial Model Traning - Batch 1\n",
    "clf_Batch1 = linear_model.SGDClassifier(max_iter=100, tol=None)\n",
    "clf_Batch1.fit(X_train_1, y_train_1)\n",
    "\n",
    "y_pred = clf_Batch1.predict(X_test)\n",
    "print(accuracy_score(y_test, y_pred))\n",
    "\n",
    "import pickle\n",
    "# now you can save it to a file\n",
    "with open('SGDClassifier_Iris_Batch_1.pkl', 'wb') as f:\n",
    "    pickle.dump(clf_Batch1, f)"
   ]
  },
  {
   "cell_type": "code",
   "execution_count": null,
   "metadata": {
    "collapsed": true
   },
   "outputs": [],
   "source": [
    "#Partial Model Traning - Batch 2\n",
    "# Load SGDClassifier_1\n",
    "with open('SGDClassifier_Iris_Batch_1.pkl', 'rb') as f:\n",
    "    clf_Batch2 = pickle.load(f)\n",
    "    \n",
    "clf_Batch2.partial_fit(X_train_2, y_train_2, classes=None, sample_weight=None)\n",
    "\n",
    "y_pred = clf_Batch2.predict(X_test)\n",
    "accuracy_score(y_test, y_pred)"
   ]
  },
  {
   "cell_type": "markdown",
   "metadata": {},
   "source": [
    "*** Load Iris Data and Try **"
   ]
  },
  {
   "cell_type": "code",
   "execution_count": null,
   "metadata": {
    "collapsed": true
   },
   "outputs": [],
   "source": [
    "import pandas as pd\n",
    "df_Iris_Full = pd.read_csv(\".//Iris Dataset//Iris.csv\")\n",
    "df_Iris_Batch1 = pd.read_csv(\".//Iris Dataset//Iris_Batch1.csv\")\n",
    "df_Iris_Batch2 = pd.read_csv(\".//Iris Dataset//Iris_Batch2.csv\")"
   ]
  },
  {
   "cell_type": "code",
   "execution_count": null,
   "metadata": {
    "collapsed": true
   },
   "outputs": [],
   "source": [
    "print(df_Iris_Full.shape)\n",
    "print(df_Iris_Batch1.shape)\n",
    "print(df_Iris_Batch2.shape)\n",
    "\n",
    "print(type(df_Iris_Full))\n",
    "print(type(df_Iris_Batch1))\n",
    "print(type(df_Iris_Batch2))\n",
    "\n",
    "print(np.unique(df_Iris_Full[[\"class\"]]))\n",
    "print(np.unique(df_Iris_Batch1[[\"class\"]]))\n",
    "print(np.unique(df_Iris_Batch2[[\"class\"]]))\n",
    "\n",
    "print(df_Iris_Full.head())\n",
    "print(df_Iris_Batch1.head())\n",
    "print(df_Iris_Batch2.head())"
   ]
  },
  {
   "cell_type": "code",
   "execution_count": null,
   "metadata": {
    "collapsed": true
   },
   "outputs": [],
   "source": [
    "X_test = df_Iris_Full[[\"sepal_length\", \"sepal_width\", \"petal_length\", \"petal_width\"]]\n",
    "y_test = df_Iris_Full[[\"class\"]]\n",
    "\n",
    "X_train_1 = df_Iris_Batch1[[\"sepal_length\", \"sepal_width\", \"petal_length\", \"petal_width\"]]\n",
    "y_train_1 = df_Iris_Batch1[[\"class\"]]\n",
    "\n",
    "X_train_2 = df_Iris_Batch2[[\"sepal_length\", \"sepal_width\", \"petal_length\", \"petal_width\"]]\n",
    "y_train_2 = df_Iris_Batch2[[\"class\"]]"
   ]
  },
  {
   "cell_type": "code",
   "execution_count": null,
   "metadata": {
    "collapsed": true
   },
   "outputs": [],
   "source": [
    "print(X_test.shape)\n",
    "print(y_test.shape)\n",
    "print(X_train_1.shape)\n",
    "print(y_train_1.shape)\n",
    "print(X_train_2.shape)\n",
    "print(y_train_2.shape)"
   ]
  },
  {
   "cell_type": "code",
   "execution_count": null,
   "metadata": {
    "collapsed": true
   },
   "outputs": [],
   "source": [
    "#Full Model Training\n",
    "\n",
    "clf_full = linear_model.SGDClassifier(max_iter=100, tol=None)\n",
    "clf_full.fit(X_test, y_test.values.ravel())\n",
    "\n",
    "y_pred = clf_full.predict(X_test)\n",
    "accuracy_score(y_test, y_pred)"
   ]
  },
  {
   "cell_type": "code",
   "execution_count": null,
   "metadata": {
    "collapsed": true
   },
   "outputs": [],
   "source": [
    "#Partial Model Traning - Batch 1\n",
    "clf_Batch1 = linear_model.SGDClassifier(max_iter=100, tol=None, loss = \"log\")\n",
    "clf_Batch1.fit(X_train_1, y_train_1.values.ravel())\n",
    "\n",
    "y_pred = clf_Batch1.predict(X_test)\n",
    "print(accuracy_score(y_test, y_pred))\n",
    "\n",
    "import pickle\n",
    "# now you can save it to a file\n",
    "with open('SGDClassifier_Iris_Batch_1.pkl', 'wb') as f:\n",
    "    pickle.dump(clf_Batch1, f)\n",
    "    \n",
    "print(y_pred)"
   ]
  },
  {
   "cell_type": "code",
   "execution_count": null,
   "metadata": {
    "collapsed": true
   },
   "outputs": [],
   "source": [
    "#Partial Model Traning - Batch 2\n",
    "# Load SGDClassifier_1\n",
    "with open('SGDClassifier_Iris_Batch_1.pkl', 'rb') as f:\n",
    "    clf_Batch2 = pickle.load(f)\n",
    "    \n",
    "clf_Batch2.partial_fit(X_train_2, y_train_2.values.ravel(), classes= np.unique(y_test), sample_weight=None)\n",
    "\n",
    "y_pred = clf_Batch2.predict(X_test)\n",
    "print(accuracy_score(y_test, y_pred))\n",
    "\n",
    "print(y_pred)"
   ]
  }
 ],
 "metadata": {
  "kernelspec": {
   "display_name": "Python 3",
   "language": "python",
   "name": "python3"
  },
  "language_info": {
   "codemirror_mode": {
    "name": "ipython",
    "version": 3
   },
   "file_extension": ".py",
   "mimetype": "text/x-python",
   "name": "python",
   "nbconvert_exporter": "python",
   "pygments_lexer": "ipython3",
   "version": "3.6.2"
  }
 },
 "nbformat": 4,
 "nbformat_minor": 2
}
