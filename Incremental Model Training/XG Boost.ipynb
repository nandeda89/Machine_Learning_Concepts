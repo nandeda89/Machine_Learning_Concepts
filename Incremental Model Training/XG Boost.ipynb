{
 "cells": [
  {
   "cell_type": "code",
   "execution_count": null,
   "metadata": {},
   "outputs": [],
   "source": [
    "import xgboost as xgb\n",
    "from sklearn.cross_validation import train_test_split as ttsplit\n",
    "from sklearn.datasets import load_boston\n",
    "from sklearn.metrics import mean_squared_error as mse"
   ]
  },
  {
   "cell_type": "code",
   "execution_count": null,
   "metadata": {},
   "outputs": [],
   "source": [
    "X = load_boston()['data']\n",
    "y = load_boston()['target']\n",
    "\n",
    "# split data into training and testing sets\n",
    "# then split training set in half\n",
    "X_train, X_test, y_train, y_test = ttsplit(X, y, test_size=0.1, random_state=0)\n",
    "X_train_1, X_train_2, y_train_1, y_train_2 = ttsplit(X_train, \n",
    "                                                     y_train, \n",
    "                                                     test_size=0.5,\n",
    "                                                     random_state=0)\n",
    "\n",
    "xg_train_1 = xgb.DMatrix(X_train_1, label=y_train_1)\n",
    "xg_train_2 = xgb.DMatrix(X_train_2, label=y_train_2)\n",
    "xg_test = xgb.DMatrix(X_test, label=y_test)\n",
    "\n",
    "params = {'objective': 'reg:linear', 'verbose': False}\n",
    "model_1 = xgb.train(params, xg_train_1, 30)\n",
    "model_1.save_model('model_1.model')\n",
    "\n",
    "# ================= train two versions of the model =====================#\n",
    "model_2_v1 = xgb.train(params, xg_train_2, 30)\n",
    "model_2_v2 = xgb.train(params, xg_train_2, 30, xgb_model='model_1.model')\n",
    "\n",
    "print(mse(model_1.predict(xg_test), y_test))     # benchmark\n",
    "print(mse(model_2_v1.predict(xg_test), y_test))  # \"before\"\n",
    "print(mse(model_2_v2.predict(xg_test), y_test))  # \"after\""
   ]
  },
  {
   "cell_type": "code",
   "execution_count": null,
   "metadata": {},
   "outputs": [],
   "source": [
    "import pandas as pd\n",
    "import numpy\n",
    "\n",
    "df = pd.DataFrame({'X_train':X_train.tolist()})"
   ]
  },
  {
   "cell_type": "code",
   "execution_count": null,
   "metadata": {},
   "outputs": [],
   "source": [
    "df.info()\n",
    "print(df.head())"
   ]
  }
 ],
 "metadata": {
  "kernelspec": {
   "display_name": "Python 3",
   "language": "python",
   "name": "python3"
  },
  "language_info": {
   "codemirror_mode": {
    "name": "ipython",
    "version": 3
   },
   "file_extension": ".py",
   "mimetype": "text/x-python",
   "name": "python",
   "nbconvert_exporter": "python",
   "pygments_lexer": "ipython3",
   "version": "3.6.3"
  }
 },
 "nbformat": 4,
 "nbformat_minor": 2
}
