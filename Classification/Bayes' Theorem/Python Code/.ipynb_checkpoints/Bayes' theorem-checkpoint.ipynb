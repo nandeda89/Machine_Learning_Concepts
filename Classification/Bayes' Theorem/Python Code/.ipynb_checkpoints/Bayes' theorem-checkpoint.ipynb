{
 "cells": [
  {
   "cell_type": "markdown",
   "metadata": {},
   "source": [
    "# Bayes' Theorem"
   ]
  },
  {
   "cell_type": "markdown",
   "metadata": {},
   "source": [
    "- In probability theory and statistics, Bayes’ theorem (alternatively Bayes’ law or Bayes' rule) describes the probability of an event, based on prior knowledge of conditions that might be related to the event. For example, if cancer is related to age, then, using Bayes’ theorem, a person’s age can be used to more accurately assess the probability that they have cancer, compared to the assessment of the probability of cancer made without knowledge of the person's age."
   ]
  },
  {
   "cell_type": "markdown",
   "metadata": {},
   "source": [
    "#### References\n",
    "- https://brilliant.org/wiki/bayes-theorem/\n",
    "- https://en.wikipedia.org/wiki/Bayes%27_theorem\n",
    "- https://betterexplained.com/articles/an-intuitive-and-short-explanation-of-bayes-theorem/ \n",
    "- https://www.analyticsvidhya.com/blog/2017/03/conditional-probability-bayes-theorem/\n",
    "- http://www.statisticshowto.com/bayes-theorem-problems/\n",
    "- https://www.analyticsvidhya.com/blog/2016/06/bayesian-statistics-beginners-simple-english/ (Pending)"
   ]
  },
  {
   "attachments": {},
   "cell_type": "markdown",
   "metadata": {},
   "source": [
    "<img src=\"./images/statement.jpg\">"
   ]
  },
  {
   "attachments": {},
   "cell_type": "markdown",
   "metadata": {},
   "source": [
    "<img src=\"./images/alternative.jpg\">"
   ]
  },
  {
   "attachments": {},
   "cell_type": "markdown",
   "metadata": {},
   "source": [
    "<img src=\"./images/equation.jpg\">"
   ]
  },
  {
   "attachments": {},
   "cell_type": "markdown",
   "metadata": {},
   "source": [
    "<img src=\"./images/example.jpg\">"
   ]
  },
  {
   "cell_type": "markdown",
   "metadata": {},
   "source": [
    "### Import Libraries"
   ]
  },
  {
   "cell_type": "code",
   "execution_count": 121,
   "metadata": {},
   "outputs": [],
   "source": [
    "from Utilities.color import color"
   ]
  },
  {
   "cell_type": "markdown",
   "metadata": {},
   "source": [
    "### Define Variables\n",
    "\n",
    "- <b> prob_a </b> - Probability of Event A\n",
    "- <b> prob_b </b> - Probability of Event B\n",
    "- <b> prob_a_AND_b </b> - Probability of Both Event A <b> AND </b> B Occuring\n",
    "- <b> prob_a_GIVEN_b </b> - Probability of Event A <b> GIVEN </b> Event B Occured\n",
    "- <b> prob_b_GIVEN_a </b> - Probability of Event B <b> GIVEN </b> Event A Occured "
   ]
  },
  {
   "cell_type": "markdown",
   "metadata": {},
   "source": [
    "### Helper Functions"
   ]
  },
  {
   "cell_type": "code",
   "execution_count": 196,
   "metadata": {},
   "outputs": [],
   "source": [
    "def Prob_A_AND_B(prob_a ='', prob_b='', prob_a_GIVEN_b='', prob_b_GIVEN_a=''):\n",
    "    \n",
    "    empty_a = False\n",
    "    empty_b = False\n",
    "    \n",
    "    if((prob_a_GIVEN_b == '') & (prob_b_GIVEN_a == '')):\n",
    "        return list(['Error','Both Conditional probalities are Empty'])        \n",
    "        \n",
    "    if((prob_a == '') & (prob_b  == '')):\n",
    "        return list(['Error','Probability of Both Event A & B is Empty'])\n",
    "                \n",
    "    if(prob_a_GIVEN_b != ''):\n",
    "         if(prob_b != ''):\n",
    "            return list(['Value',prob_a_GIVEN_b * prob_b])\n",
    "         else:\n",
    "            empty_b = True\n",
    "        \n",
    "    if(prob_b_GIVEN_a != ''):\n",
    "         if(prob_a != ''):\n",
    "            return list(['Value',prob_b_GIVEN_a * prob_a])\n",
    "         else:\n",
    "            empty_a = True   \n",
    "            \n",
    "    if(empty_a):\n",
    "        return list(['Error','Probability of Event A is Empty'])\n",
    "\n",
    "    if(empty_b):\n",
    "        return list(['Error','Probability of Event B is Empty'])\n",
    "\n",
    "def Prob_B_GIVEN_A(prob_a ='', prob_b ='', prob_a_GIVEN_b ='', prob_a_AND_b=''):\n",
    "    \n",
    "    empty_a_and_b = False\n",
    "    empty_a_given_b = False\n",
    "    empty_b = False\n",
    "    \n",
    "    if(prob_a ==''):\n",
    "        return list(['Error','Probability of Event A is Empty'])\n",
    "    \n",
    "    if((prob_a_AND_b != '')):\n",
    "        return list(['Value',prob_a_AND_b / (prob_a)])\n",
    "    else:\n",
    "        empty_a_and_b = True\n",
    "    \n",
    "    if((prob_a_GIVEN_b != '')):\n",
    "        if((prob_b !='')):\n",
    "            return list(['Value',prob_a_GIVEN_b * (prob_b/prob_a)])\n",
    "        else:\n",
    "            empty_b = True\n",
    "    else:\n",
    "        empty_a_given_b = True\n",
    "        \n",
    "    if(empty_b):\n",
    "        return list(['Error','Probability of Event B is Empty'])\n",
    "    \n",
    "    if(empty_a_given_b):\n",
    "        return list(['Error','Probability of Event A Given B is Empty'])\n",
    "\n",
    "    \n",
    "def Prob_A_GIVEN_B(prob_a ='', prob_b ='', prob_b_GIVEN_a ='', prob_a_AND_b=''):\n",
    "    \n",
    "    empty_a_and_b = False\n",
    "    empty_b_given_a = False\n",
    "    empty_a = False\n",
    "    \n",
    "    if(prob_b ==''):\n",
    "        return list(['Error','Probability of Event B is Empty'])\n",
    "    \n",
    "    if((prob_a_AND_b != '')):\n",
    "        return list(['Value',prob_a_AND_b / (prob_b)])\n",
    "    else:\n",
    "        empty_a_and_b = True\n",
    "    \n",
    "    if((prob_b_GIVEN_a != '')):\n",
    "        if((prob_a !='')):\n",
    "            return list(['Value',prob_b_GIVEN_a * (prob_a/prob_b)])\n",
    "        else:\n",
    "            empty_a = True\n",
    "    else:\n",
    "        empty_b_given_a = True\n",
    "        \n",
    "    if(empty_a):\n",
    "        return list(['Error','Probability of Event A is Empty'])\n",
    "    \n",
    "    if(empty_b_given_a):\n",
    "        return list(['Error','Probability of Event B Given A is Empty'])"
   ]
  },
  {
   "cell_type": "markdown",
   "metadata": {},
   "source": [
    "### Assign Given Probabilities"
   ]
  },
  {
   "cell_type": "code",
   "execution_count": 224,
   "metadata": {},
   "outputs": [],
   "source": [
    "# Event a = prob of spots\n",
    "# Event b = prob of smallpox\n",
    "# prob_a_GIVEN_b = prob of spots given smallpox\n",
    "# prob_b_GIVEN_a = prob of smallpox given spot\n",
    "# prob_a_AND_b = Probability of Both Event A AND B Occuring \n",
    "\n",
    "prob_a =  0.081\n",
    "prob_b = 0.1\n",
    "prob_a_GIVEN_b = 0.8\n",
    "prob_b_GIVEN_a = ''\n",
    "prob_a_AND_b = ''"
   ]
  },
  {
   "cell_type": "markdown",
   "metadata": {},
   "source": [
    "### Calculate Probability of Both Event A AND B Occuring"
   ]
  },
  {
   "cell_type": "code",
   "execution_count": 225,
   "metadata": {},
   "outputs": [
    {
     "name": "stdout",
     "output_type": "stream",
     "text": [
      "\u001b[1m0.080.\n"
     ]
    }
   ],
   "source": [
    "Value, prob_a_and_b = Prob_A_AND_B(prob_a = prob_a, prob_b= prob_b, prob_a_GIVEN_b = prob_a_GIVEN_b, \n",
    "                            prob_b_GIVEN_a=prob_b_GIVEN_a)\n",
    "if(Value!='Error'):\n",
    "    prob_a_AND_b = prob_a_and_b\n",
    "    print(color.BOLD + '%.3f.' %prob_a_and_b)\n",
    "    \n",
    "else:\n",
    "    print(Value, prob_a_and_b)"
   ]
  },
  {
   "cell_type": "markdown",
   "metadata": {},
   "source": [
    "### Probability of Event A GIVEN Event B Occured"
   ]
  },
  {
   "cell_type": "code",
   "execution_count": 222,
   "metadata": {},
   "outputs": [
    {
     "name": "stdout",
     "output_type": "stream",
     "text": [
      "\u001b[1mPosterior, \u001b[0mProbability of Event A GIVEN Event B Occured = \u001b[91m\u001b[1m0.900.\n"
     ]
    }
   ],
   "source": [
    "Value, prob_a_given_b = Prob_A_GIVEN_B(prob_a = prob_a, prob_b = prob_b, prob_b_GIVEN_a = prob_b_GIVEN_a, \n",
    "                                prob_a_AND_b = prob_a_AND_b)\n",
    "\n",
    "if(Value!='Error'):\n",
    "    prob_a_GIVEN_b = prob_a_given_b\n",
    "    \n",
    "else:\n",
    "    prob_a_GIVEN_b = 0\n",
    "    print(Value, prob_a_given_b)\n",
    "    \n",
    "print(color.BOLD + 'Posterior, ' + color.END + 'Probability of Event A GIVEN Event B Occured = ' + \n",
    "      color.RED + color.BOLD + '%.3f.' %prob_a_GIVEN_b)"
   ]
  },
  {
   "cell_type": "markdown",
   "metadata": {},
   "source": [
    "### Probability of Event B GIVEN Event A Occured"
   ]
  },
  {
   "cell_type": "code",
   "execution_count": 226,
   "metadata": {},
   "outputs": [
    {
     "name": "stdout",
     "output_type": "stream",
     "text": [
      "\u001b[1mPosterior, \u001b[0mProbability of Event B GIVEN Event A Occured = \u001b[91m\u001b[1m0.988.\n"
     ]
    }
   ],
   "source": [
    "Value, prob_b_given_a = Prob_B_GIVEN_A(prob_a = prob_a, prob_b = prob_b, prob_a_GIVEN_b = prob_a_GIVEN_b, \n",
    "                                prob_a_AND_b = prob_a_AND_b)\n",
    "\n",
    "if(Value!='Error'):\n",
    "    prob_b_GIVEN_a = prob_b_given_a\n",
    "    \n",
    "else:\n",
    "    prob_b_GIVEN_a = 0\n",
    "    print(Value, prob_b_given_a)\n",
    "    \n",
    "print(color.BOLD + 'Posterior, ' + color.END + 'Probability of Event B GIVEN Event A Occured = ' + \n",
    "      color.RED + color.BOLD + '%.3f.' %prob_b_GIVEN_a)\n",
    "#Output:Posterior,pSmallpoxGSpots=0.011"
   ]
  }
 ],
 "metadata": {
  "kernelspec": {
   "display_name": "Python [default]",
   "language": "python",
   "name": "python3"
  },
  "language_info": {
   "codemirror_mode": {
    "name": "ipython",
    "version": 3
   },
   "file_extension": ".py",
   "mimetype": "text/x-python",
   "name": "python",
   "nbconvert_exporter": "python",
   "pygments_lexer": "ipython3",
   "version": "3.6.5"
  },
  "latex_envs": {
   "LaTeX_envs_menu_present": true,
   "autoclose": false,
   "autocomplete": true,
   "bibliofile": "biblio.bib",
   "cite_by": "apalike",
   "current_citInitial": 1,
   "eqLabelWithNumbers": true,
   "eqNumInitial": 1,
   "hotkeys": {
    "equation": "Ctrl-E",
    "itemize": "Ctrl-I"
   },
   "labels_anchors": false,
   "latex_user_defs": false,
   "report_style_numbering": false,
   "user_envs_cfg": false
  }
 },
 "nbformat": 4,
 "nbformat_minor": 2
}
