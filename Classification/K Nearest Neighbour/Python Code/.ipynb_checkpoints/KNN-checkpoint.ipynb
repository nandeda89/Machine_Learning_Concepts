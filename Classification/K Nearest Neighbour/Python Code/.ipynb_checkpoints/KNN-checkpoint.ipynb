{
 "cells": [
  {
   "cell_type": "markdown",
   "metadata": {},
   "source": [
    "#### References\n",
    "- http://scikit-learn.org/stable/modules/generated/sklearn.neighbors.KNeighborsClassifier.html\n",
    "- http://scikit-learn.org/stable/auto_examples/exercises/plot_digits_classification_exercise.html#sphx-glr-auto-examples-exercises-plot-digits-classification-exercise-py\n",
    "- http://scikit-learn.org/stable/auto_examples/neighbors/plot_classification.html#sphx-glr-auto-examples-neighbors-plot-classification-py\n",
    "- http://scikit-learn.org/stable/auto_examples/text/document_classification_20newsgroups.html#sphx-glr-auto-examples-text-document-classification-20newsgroups-py"
   ]
  },
  {
   "cell_type": "markdown",
   "metadata": {},
   "source": [
    "<b> Why KNN ? </b>\n",
    "\n",
    "KNN is an algorithm that is useful for matching a point with its closest k neighbors in a multi-dimensional space. It can be used for data that are continuous, discrete, ordinal and categorical which makes it particularly useful for dealing with all kind of missing data.\n",
    "\n",
    "The assumption behind using KNN for missing values is that a point value can be approximated by the values of the points that are closest to it, based on other variables.\n",
    "\n",
    "<b> KNN Implementation: </b>\n",
    "\n",
    "<b> KNeighborsClassifier(): </b> This is the classifier function for KNN. It is the main function for implementing the algorithms. Some important parameters are:\n",
    "\n",
    "<b> Accuracy Score: </b> \n",
    "\n",
    "accuracy_score(): This function is used to print accuracy of KNN algorithm. By accuracy, we mean the ratio of the correctly predicted data points to all the predicted data points. Accuracy as a metric helps to understand the effectiveness of our algorithm"
   ]
  },
  {
   "cell_type": "code",
   "execution_count": 1,
   "metadata": {},
   "outputs": [],
   "source": [
    "import numpy as np\n",
    "from sklearn.preprocessing import Imputer\n",
    "from sklearn.model_selection import train_test_split\n",
    "from sklearn.neighbors import KNeighborsClassifier\n",
    "from sklearn.metrics import accuracy_score\n",
    "\n",
    "#Customized Utilities\n",
    "from Utilities.Summarize import Summarize as smr\n",
    "from Utilities.color import color"
   ]
  },
  {
   "cell_type": "code",
   "execution_count": 22,
   "metadata": {},
   "outputs": [],
   "source": [
    "#Read Data\n",
    "cancer_data = np.genfromtxt(fname ='./Dataset/breast-cancer-wisconsin.data', delimiter= ',', dtype= float)"
   ]
  },
  {
   "cell_type": "code",
   "execution_count": 23,
   "metadata": {},
   "outputs": [
    {
     "name": "stdout",
     "output_type": "stream",
     "text": [
      "Dataset Lenght::  699\n",
      "Dataset::  [[1.000025e+06 5.000000e+00 1.000000e+00 ... 1.000000e+00 1.000000e+00\n",
      "  2.000000e+00]\n",
      " [1.002945e+06 5.000000e+00 4.000000e+00 ... 2.000000e+00 1.000000e+00\n",
      "  2.000000e+00]\n",
      " [1.015425e+06 3.000000e+00 1.000000e+00 ... 1.000000e+00 1.000000e+00\n",
      "  2.000000e+00]\n",
      " ...\n",
      " [8.888200e+05 5.000000e+00 1.000000e+01 ... 1.000000e+01 2.000000e+00\n",
      "  4.000000e+00]\n",
      " [8.974710e+05 4.000000e+00 8.000000e+00 ... 6.000000e+00 1.000000e+00\n",
      "  4.000000e+00]\n",
      " [8.974710e+05 4.000000e+00 8.000000e+00 ... 4.000000e+00 1.000000e+00\n",
      "  4.000000e+00]]\n",
      "Dataset Shape::  (699, 11)\n"
     ]
    }
   ],
   "source": [
    "print(\"Dataset Lenght:: \", len(cancer_data))\n",
    "print(\"Dataset:: \", str(cancer_data))\n",
    "print(\"Dataset Shape:: \", cancer_data.shape)"
   ]
  },
  {
   "cell_type": "code",
   "execution_count": 24,
   "metadata": {},
   "outputs": [],
   "source": [
    "#The cancer dataset’s first column consists of patient’s id. To make this prediction process unbiased, \n",
    "#we should remove this patient id\n",
    "cancer_data = np.delete(arr = cancer_data, obj= 0, axis = 1)\n",
    "\n",
    "X = cancer_data[:,range(0,9)]\n",
    "Y = cancer_data[:,9]"
   ]
  },
  {
   "cell_type": "code",
   "execution_count": 25,
   "metadata": {},
   "outputs": [],
   "source": [
    "# Impute Missing Values using median\n",
    "imp = Imputer(missing_values=\"NaN\", strategy='median', axis=0)\n",
    "X = imp.fit_transform(X)"
   ]
  },
  {
   "cell_type": "code",
   "execution_count": 27,
   "metadata": {},
   "outputs": [],
   "source": [
    "#Train test split\n",
    "X_train, X_test, y_train, y_test = train_test_split(X, Y, test_size = 0.3, random_state = 100)\n",
    "y_train = y_train.ravel()\n",
    "y_test = y_test.ravel()"
   ]
  },
  {
   "cell_type": "code",
   "execution_count": 30,
   "metadata": {},
   "outputs": [
    {
     "name": "stdout",
     "output_type": "stream",
     "text": [
      "Accuracy is  95.23809523809523 % for K-Value: 1\n",
      "Accuracy is  93.33333333333333 % for K-Value: 2\n",
      "Accuracy is  95.71428571428572 % for K-Value: 3\n",
      "Accuracy is  95.23809523809523 % for K-Value: 4\n",
      "Accuracy is  95.71428571428572 % for K-Value: 5\n"
     ]
    }
   ],
   "source": [
    "for K in range(5):\n",
    "    K_value = K+1\n",
    "    neigh = KNeighborsClassifier(n_neighbors = K_value, weights='uniform', algorithm='auto')\n",
    "    neigh.fit(X_train, y_train) \n",
    "    y_pred = neigh.predict(X_test)\n",
    "    print(\"Accuracy is \", accuracy_score(y_test,y_pred)*100,\"% for K-Value:\",K_value)"
   ]
  },
  {
   "cell_type": "code",
   "execution_count": null,
   "metadata": {},
   "outputs": [],
   "source": []
  }
 ],
 "metadata": {
  "kernelspec": {
   "display_name": "Python [default]",
   "language": "python",
   "name": "python3"
  },
  "language_info": {
   "codemirror_mode": {
    "name": "ipython",
    "version": 3
   },
   "file_extension": ".py",
   "mimetype": "text/x-python",
   "name": "python",
   "nbconvert_exporter": "python",
   "pygments_lexer": "ipython3",
   "version": "3.6.5"
  },
  "latex_envs": {
   "LaTeX_envs_menu_present": true,
   "autoclose": false,
   "autocomplete": true,
   "bibliofile": "biblio.bib",
   "cite_by": "apalike",
   "current_citInitial": 1,
   "eqLabelWithNumbers": true,
   "eqNumInitial": 1,
   "hotkeys": {
    "equation": "Ctrl-E",
    "itemize": "Ctrl-I"
   },
   "labels_anchors": false,
   "latex_user_defs": false,
   "report_style_numbering": false,
   "user_envs_cfg": false
  }
 },
 "nbformat": 4,
 "nbformat_minor": 2
}
